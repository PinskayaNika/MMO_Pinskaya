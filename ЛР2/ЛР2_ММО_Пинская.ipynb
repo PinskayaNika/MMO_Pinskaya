{
  "nbformat": 4,
  "nbformat_minor": 0,
  "metadata": {
    "colab": {
      "name": "ЛР2_ММО_Пинская.ipynb",
      "provenance": [],
      "collapsed_sections": [
        "ryVAb-yvQ-fW",
        "t5HRpsUhwKUl"
      ],
      "include_colab_link": true
    },
    "kernelspec": {
      "name": "python3",
      "display_name": "Python 3"
    },
    "language_info": {
      "name": "python"
    }
  },
  "cells": [
    {
      "cell_type": "markdown",
      "metadata": {
        "id": "view-in-github",
        "colab_type": "text"
      },
      "source": [
        "<a href=\"https://colab.research.google.com/github/PinskayaNika/MMO_Pinskaya/blob/main/%D0%9B%D0%A02/%D0%9B%D0%A02_%D0%9C%D0%9C%D0%9E_%D0%9F%D0%B8%D0%BD%D1%81%D0%BA%D0%B0%D1%8F.ipynb\" target=\"_parent\"><img src=\"https://colab.research.google.com/assets/colab-badge.svg\" alt=\"Open In Colab\"/></a>"
      ]
    },
    {
      "cell_type": "markdown",
      "source": [
        "# Лабораторная работа №2\n",
        "## \"**Обработка признаков (часть 1)**\"\n",
        "\n",
        "Выполнила: Пинская Н.М.  \n",
        "Группа: ИУ5-21М  \n",
        "\n",
        "  \n",
        "  \n",
        "**Цель лабораторной работы:** изучение продвинутых способов предварительной обработки данных для дальнейшего формирования моделей.  \n",
        "\n",
        "  \n",
        "**Задание:**  \n",
        "\n",
        "1.   Выбрать набор данных (датасет), содержащий категориальные и числовые признаки и пропуски в данных. Для выполнения следующих пунктов можно использовать несколько различных наборов данных (один для обработки пропусков, другой для категориальных признаков и т.д.) Просьба не использовать датасет, на котором данная задача решалась в лекции.\n",
        "2.   Для выбранного датасета (датасетов) на основе материалов лекций решить следующие задачи:  \n",
        "*   устранение пропусков в данных;\n",
        "*   кодирование категориальных признаков;\n",
        "*   нормализацию числовых признаков."
      ],
      "metadata": {
        "id": "veVfE7vzPZIp"
      }
    },
    {
      "cell_type": "code",
      "execution_count": 39,
      "metadata": {
        "id": "T2DPTOWKPKZL"
      },
      "outputs": [],
      "source": [
        "#импортируем библиотеки\n",
        "import numpy as np\n",
        "import pandas as pd\n",
        "import seaborn as sns\n",
        "import matplotlib.pyplot as plt\n",
        "import scipy.stats as stats\n",
        "from sklearn.impute import SimpleImputer\n",
        "from sklearn.impute import MissingIndicator\n",
        "# from category_encoders.target_encoder import TargetEncoder as ce_TargetEncoder\n",
        "from sklearn.preprocessing import LabelEncoder\n",
        "%matplotlib inline \n",
        "sns.set(style=\"ticks\")"
      ]
    },
    {
      "cell_type": "code",
      "source": [
        "# Подключение к gogle диску\n",
        "from google.colab import drive\n",
        "drive.mount('/content/drive')"
      ],
      "metadata": {
        "colab": {
          "base_uri": "https://localhost:8080/"
        },
        "id": "jrviv8jlpqwM",
        "outputId": "c409a80c-6324-4524-e8dd-82829f98a178"
      },
      "execution_count": 40,
      "outputs": [
        {
          "output_type": "stream",
          "name": "stdout",
          "text": [
            "Drive already mounted at /content/drive; to attempt to forcibly remount, call drive.mount(\"/content/drive\", force_remount=True).\n"
          ]
        }
      ]
    },
    {
      "cell_type": "code",
      "source": [
        "# Вывод содержимого папки на диске\n",
        "import os\n",
        "data_root = '/content/drive/MyDrive/MMO'\n",
        "print(os.listdir(data_root))"
      ],
      "metadata": {
        "colab": {
          "base_uri": "https://localhost:8080/"
        },
        "id": "89fcrH3Iprjg",
        "outputId": "8aa7b6bb-c703-4776-97c1-968530ff1722"
      },
      "execution_count": 41,
      "outputs": [
        {
          "output_type": "stream",
          "name": "stdout",
          "text": [
            "['pulitzer-circulation-data.csv', 'mmsa-icu-beds2.csv', 'movies.csv.zip', 'movies2.csv.zip', 'movies1.csv.zip', 'avengers.csv.zip', 'comma-survey.csv.zip', 'Tweets.csv.zip', 'BX-CSV-DUMP', 'rekko_challenge_rekko_challenge_2019', 'books.csv', 'laptop.csv']\n"
          ]
        }
      ]
    },
    {
      "cell_type": "markdown",
      "source": [
        "## Устранение пропусков в данных"
      ],
      "metadata": {
        "id": "ryVAb-yvQ-fW"
      }
    },
    {
      "cell_type": "code",
      "source": [
        "skip = pd.read_csv('/content/drive/MyDrive/MMO/laptop.csv', sep=\",\")"
      ],
      "metadata": {
        "id": "y4ngcjDDSgVT"
      },
      "execution_count": 42,
      "outputs": []
    },
    {
      "cell_type": "code",
      "source": [
        "skip.shape"
      ],
      "metadata": {
        "id": "_9g1Mtj7Sf1e",
        "colab": {
          "base_uri": "https://localhost:8080/"
        },
        "outputId": "4b28ca8e-676e-4fac-b0c2-4bf648e97730"
      },
      "execution_count": 43,
      "outputs": [
        {
          "output_type": "execute_result",
          "data": {
            "text/plain": [
              "(130, 11)"
            ]
          },
          "metadata": {},
          "execution_count": 43
        }
      ]
    },
    {
      "cell_type": "code",
      "source": [
        "list(zip(skip.columns, [i for i in skip.dtypes]))"
      ],
      "metadata": {
        "id": "jiaGfizsSk6g",
        "colab": {
          "base_uri": "https://localhost:8080/"
        },
        "outputId": "54a59f08-6d10-4957-9a48-6b40128ae1d0"
      },
      "execution_count": 44,
      "outputs": [
        {
          "output_type": "execute_result",
          "data": {
            "text/plain": [
              "[('Unnamed: 0', dtype('int64')),\n",
              " ('Brand', dtype('O')),\n",
              " ('Model', dtype('O')),\n",
              " ('Series', dtype('O')),\n",
              " ('Processor', dtype('O')),\n",
              " ('Processor_Gen', dtype('O')),\n",
              " ('RAM', dtype('float64')),\n",
              " ('Hard_Disk_Capacity', dtype('O')),\n",
              " ('OS', dtype('O')),\n",
              " ('Rating', dtype('float64')),\n",
              " ('Price', dtype('int64'))]"
            ]
          },
          "metadata": {},
          "execution_count": 44
        }
      ]
    },
    {
      "cell_type": "code",
      "source": [
        "# Колонки с пропусками\n",
        "hcols_with_na = [c for c in skip.columns if skip[c].isnull().sum() > 0]\n",
        "hcols_with_na"
      ],
      "metadata": {
        "colab": {
          "base_uri": "https://localhost:8080/"
        },
        "id": "_mOPdFGLrCzW",
        "outputId": "5c116b64-6d27-4917-9e91-7be164259d90"
      },
      "execution_count": 45,
      "outputs": [
        {
          "output_type": "execute_result",
          "data": {
            "text/plain": [
              "['Model',\n",
              " 'Series',\n",
              " 'Processor',\n",
              " 'Processor_Gen',\n",
              " 'RAM',\n",
              " 'Hard_Disk_Capacity',\n",
              " 'OS']"
            ]
          },
          "metadata": {},
          "execution_count": 45
        }
      ]
    },
    {
      "cell_type": "code",
      "source": [
        "skip.head()"
      ],
      "metadata": {
        "id": "GSgRIaioSnRc",
        "colab": {
          "base_uri": "https://localhost:8080/",
          "height": 0
        },
        "outputId": "a5685c34-92da-4519-ad0d-fa75a478ca35"
      },
      "execution_count": 46,
      "outputs": [
        {
          "output_type": "execute_result",
          "data": {
            "text/plain": [
              "   Unnamed: 0 Brand     Model  Series Processor Processor_Gen  RAM  \\\n",
              "0           0  DELL  Inspiron     NaN        i3          11th  8.0   \n",
              "1           1  DELL    Vostro     NaN        i5          11th  8.0   \n",
              "2           2  ASUS  VivoBook      15        i3          10th  8.0   \n",
              "3           3  DELL  Inspiron     NaN        i3          11th  8.0   \n",
              "4           4  ASUS       TUF  Gaming        i5          10th  8.0   \n",
              "\n",
              "  Hard_Disk_Capacity               OS  Rating  Price  \n",
              "0           1 TB HDD  Windows 11 Home     3.7  39040  \n",
              "1           1 TB HDD  Windows 10 Home     3.6  50840  \n",
              "2         512 GB SSD  Windows 11 Home     4.3  37940  \n",
              "3           1 TB HDD       256 GB SSD     4.4  44440  \n",
              "4         512 GB SSD  Windows 10 Home     4.5  57940  "
            ],
            "text/html": [
              "\n",
              "  <div id=\"df-0a632736-ecd2-47f6-a56b-8caf2dda5b8a\">\n",
              "    <div class=\"colab-df-container\">\n",
              "      <div>\n",
              "<style scoped>\n",
              "    .dataframe tbody tr th:only-of-type {\n",
              "        vertical-align: middle;\n",
              "    }\n",
              "\n",
              "    .dataframe tbody tr th {\n",
              "        vertical-align: top;\n",
              "    }\n",
              "\n",
              "    .dataframe thead th {\n",
              "        text-align: right;\n",
              "    }\n",
              "</style>\n",
              "<table border=\"1\" class=\"dataframe\">\n",
              "  <thead>\n",
              "    <tr style=\"text-align: right;\">\n",
              "      <th></th>\n",
              "      <th>Unnamed: 0</th>\n",
              "      <th>Brand</th>\n",
              "      <th>Model</th>\n",
              "      <th>Series</th>\n",
              "      <th>Processor</th>\n",
              "      <th>Processor_Gen</th>\n",
              "      <th>RAM</th>\n",
              "      <th>Hard_Disk_Capacity</th>\n",
              "      <th>OS</th>\n",
              "      <th>Rating</th>\n",
              "      <th>Price</th>\n",
              "    </tr>\n",
              "  </thead>\n",
              "  <tbody>\n",
              "    <tr>\n",
              "      <th>0</th>\n",
              "      <td>0</td>\n",
              "      <td>DELL</td>\n",
              "      <td>Inspiron</td>\n",
              "      <td>NaN</td>\n",
              "      <td>i3</td>\n",
              "      <td>11th</td>\n",
              "      <td>8.0</td>\n",
              "      <td>1 TB HDD</td>\n",
              "      <td>Windows 11 Home</td>\n",
              "      <td>3.7</td>\n",
              "      <td>39040</td>\n",
              "    </tr>\n",
              "    <tr>\n",
              "      <th>1</th>\n",
              "      <td>1</td>\n",
              "      <td>DELL</td>\n",
              "      <td>Vostro</td>\n",
              "      <td>NaN</td>\n",
              "      <td>i5</td>\n",
              "      <td>11th</td>\n",
              "      <td>8.0</td>\n",
              "      <td>1 TB HDD</td>\n",
              "      <td>Windows 10 Home</td>\n",
              "      <td>3.6</td>\n",
              "      <td>50840</td>\n",
              "    </tr>\n",
              "    <tr>\n",
              "      <th>2</th>\n",
              "      <td>2</td>\n",
              "      <td>ASUS</td>\n",
              "      <td>VivoBook</td>\n",
              "      <td>15</td>\n",
              "      <td>i3</td>\n",
              "      <td>10th</td>\n",
              "      <td>8.0</td>\n",
              "      <td>512 GB SSD</td>\n",
              "      <td>Windows 11 Home</td>\n",
              "      <td>4.3</td>\n",
              "      <td>37940</td>\n",
              "    </tr>\n",
              "    <tr>\n",
              "      <th>3</th>\n",
              "      <td>3</td>\n",
              "      <td>DELL</td>\n",
              "      <td>Inspiron</td>\n",
              "      <td>NaN</td>\n",
              "      <td>i3</td>\n",
              "      <td>11th</td>\n",
              "      <td>8.0</td>\n",
              "      <td>1 TB HDD</td>\n",
              "      <td>256 GB SSD</td>\n",
              "      <td>4.4</td>\n",
              "      <td>44440</td>\n",
              "    </tr>\n",
              "    <tr>\n",
              "      <th>4</th>\n",
              "      <td>4</td>\n",
              "      <td>ASUS</td>\n",
              "      <td>TUF</td>\n",
              "      <td>Gaming</td>\n",
              "      <td>i5</td>\n",
              "      <td>10th</td>\n",
              "      <td>8.0</td>\n",
              "      <td>512 GB SSD</td>\n",
              "      <td>Windows 10 Home</td>\n",
              "      <td>4.5</td>\n",
              "      <td>57940</td>\n",
              "    </tr>\n",
              "  </tbody>\n",
              "</table>\n",
              "</div>\n",
              "      <button class=\"colab-df-convert\" onclick=\"convertToInteractive('df-0a632736-ecd2-47f6-a56b-8caf2dda5b8a')\"\n",
              "              title=\"Convert this dataframe to an interactive table.\"\n",
              "              style=\"display:none;\">\n",
              "        \n",
              "  <svg xmlns=\"http://www.w3.org/2000/svg\" height=\"24px\"viewBox=\"0 0 24 24\"\n",
              "       width=\"24px\">\n",
              "    <path d=\"M0 0h24v24H0V0z\" fill=\"none\"/>\n",
              "    <path d=\"M18.56 5.44l.94 2.06.94-2.06 2.06-.94-2.06-.94-.94-2.06-.94 2.06-2.06.94zm-11 1L8.5 8.5l.94-2.06 2.06-.94-2.06-.94L8.5 2.5l-.94 2.06-2.06.94zm10 10l.94 2.06.94-2.06 2.06-.94-2.06-.94-.94-2.06-.94 2.06-2.06.94z\"/><path d=\"M17.41 7.96l-1.37-1.37c-.4-.4-.92-.59-1.43-.59-.52 0-1.04.2-1.43.59L10.3 9.45l-7.72 7.72c-.78.78-.78 2.05 0 2.83L4 21.41c.39.39.9.59 1.41.59.51 0 1.02-.2 1.41-.59l7.78-7.78 2.81-2.81c.8-.78.8-2.07 0-2.86zM5.41 20L4 18.59l7.72-7.72 1.47 1.35L5.41 20z\"/>\n",
              "  </svg>\n",
              "      </button>\n",
              "      \n",
              "  <style>\n",
              "    .colab-df-container {\n",
              "      display:flex;\n",
              "      flex-wrap:wrap;\n",
              "      gap: 12px;\n",
              "    }\n",
              "\n",
              "    .colab-df-convert {\n",
              "      background-color: #E8F0FE;\n",
              "      border: none;\n",
              "      border-radius: 50%;\n",
              "      cursor: pointer;\n",
              "      display: none;\n",
              "      fill: #1967D2;\n",
              "      height: 32px;\n",
              "      padding: 0 0 0 0;\n",
              "      width: 32px;\n",
              "    }\n",
              "\n",
              "    .colab-df-convert:hover {\n",
              "      background-color: #E2EBFA;\n",
              "      box-shadow: 0px 1px 2px rgba(60, 64, 67, 0.3), 0px 1px 3px 1px rgba(60, 64, 67, 0.15);\n",
              "      fill: #174EA6;\n",
              "    }\n",
              "\n",
              "    [theme=dark] .colab-df-convert {\n",
              "      background-color: #3B4455;\n",
              "      fill: #D2E3FC;\n",
              "    }\n",
              "\n",
              "    [theme=dark] .colab-df-convert:hover {\n",
              "      background-color: #434B5C;\n",
              "      box-shadow: 0px 1px 3px 1px rgba(0, 0, 0, 0.15);\n",
              "      filter: drop-shadow(0px 1px 2px rgba(0, 0, 0, 0.3));\n",
              "      fill: #FFFFFF;\n",
              "    }\n",
              "  </style>\n",
              "\n",
              "      <script>\n",
              "        const buttonEl =\n",
              "          document.querySelector('#df-0a632736-ecd2-47f6-a56b-8caf2dda5b8a button.colab-df-convert');\n",
              "        buttonEl.style.display =\n",
              "          google.colab.kernel.accessAllowed ? 'block' : 'none';\n",
              "\n",
              "        async function convertToInteractive(key) {\n",
              "          const element = document.querySelector('#df-0a632736-ecd2-47f6-a56b-8caf2dda5b8a');\n",
              "          const dataTable =\n",
              "            await google.colab.kernel.invokeFunction('convertToInteractive',\n",
              "                                                     [key], {});\n",
              "          if (!dataTable) return;\n",
              "\n",
              "          const docLinkHtml = 'Like what you see? Visit the ' +\n",
              "            '<a target=\"_blank\" href=https://colab.research.google.com/notebooks/data_table.ipynb>data table notebook</a>'\n",
              "            + ' to learn more about interactive tables.';\n",
              "          element.innerHTML = '';\n",
              "          dataTable['output_type'] = 'display_data';\n",
              "          await google.colab.output.renderOutput(dataTable, element);\n",
              "          const docLink = document.createElement('div');\n",
              "          docLink.innerHTML = docLinkHtml;\n",
              "          element.appendChild(docLink);\n",
              "        }\n",
              "      </script>\n",
              "    </div>\n",
              "  </div>\n",
              "  "
            ]
          },
          "metadata": {},
          "execution_count": 46
        }
      ]
    },
    {
      "cell_type": "code",
      "source": [
        "# Количество пропусков\n",
        "[(c, skip[c].isnull().sum()) for c in hcols_with_na]"
      ],
      "metadata": {
        "colab": {
          "base_uri": "https://localhost:8080/"
        },
        "id": "O69VQl2WrtZd",
        "outputId": "1142c5b3-7dff-4188-88c2-dd7510e4ad25"
      },
      "execution_count": 47,
      "outputs": [
        {
          "output_type": "execute_result",
          "data": {
            "text/plain": [
              "[('Model', 14),\n",
              " ('Series', 50),\n",
              " ('Processor', 7),\n",
              " ('Processor_Gen', 7),\n",
              " ('RAM', 8),\n",
              " ('Hard_Disk_Capacity', 8),\n",
              " ('OS', 8)]"
            ]
          },
          "metadata": {},
          "execution_count": 47
        }
      ]
    },
    {
      "cell_type": "code",
      "source": [
        "# Вычислим процент (долю) пропусков\n",
        "[(col, skip[col].isnull().mean()) for col in hcols_with_na]"
      ],
      "metadata": {
        "id": "pJVRqOEXSqHK",
        "colab": {
          "base_uri": "https://localhost:8080/"
        },
        "outputId": "7de7aab9-b029-4b16-e143-3cb8d2978ce1"
      },
      "execution_count": 48,
      "outputs": [
        {
          "output_type": "execute_result",
          "data": {
            "text/plain": [
              "[('Model', 0.1076923076923077),\n",
              " ('Series', 0.38461538461538464),\n",
              " ('Processor', 0.05384615384615385),\n",
              " ('Processor_Gen', 0.05384615384615385),\n",
              " ('RAM', 0.06153846153846154),\n",
              " ('Hard_Disk_Capacity', 0.06153846153846154),\n",
              " ('OS', 0.06153846153846154)]"
            ]
          },
          "metadata": {},
          "execution_count": 48
        }
      ]
    },
    {
      "cell_type": "markdown",
      "source": [
        "Пропусков в колонках достаточно много, будем работать с колонками Процессора (Processor), Поколения процессора (Processor_Gen) и Памяти (RAM). У них процент пропусков наименьший."
      ],
      "metadata": {
        "id": "5J9RZCYhvMs2"
      }
    },
    {
      "cell_type": "code",
      "source": [
        "# Колонки для которых удаляются пропуски\n",
        "hcols_with_na_temp = ['Processor', 'Processor_Gen', 'RAM']"
      ],
      "metadata": {
        "id": "wGyRslvBuoi7"
      },
      "execution_count": 49,
      "outputs": []
    },
    {
      "cell_type": "markdown",
      "source": [
        "### Удаление для группы колонок  \n",
        "Удаление колонок, содержащих пустые значения res = data.dropna(axis=1, how='any')\n",
        "\n"
      ],
      "metadata": {
        "id": "t5HRpsUhwKUl"
      }
    },
    {
      "cell_type": "code",
      "source": [
        "# Удаление пропусков\n",
        "skip_drop = skip[hcols_with_na_temp].dropna()\n",
        "skip_drop.shape"
      ],
      "metadata": {
        "colab": {
          "base_uri": "https://localhost:8080/"
        },
        "id": "IlW3naaZv7-n",
        "outputId": "d1cfb21f-d037-4143-f45e-60905b0e3b4a"
      },
      "execution_count": 50,
      "outputs": [
        {
          "output_type": "execute_result",
          "data": {
            "text/plain": [
              "(122, 3)"
            ]
          },
          "metadata": {},
          "execution_count": 50
        }
      ]
    },
    {
      "cell_type": "code",
      "source": [
        "def plot_hist_diff(old_ds, new_ds, cols):\n",
        "    \"\"\"\n",
        "    Разница между распределениями до и после устранения пропусков\n",
        "    \"\"\"\n",
        "    for c in cols:   \n",
        "        fig = plt.figure()\n",
        "        ax = fig.add_subplot(111)\n",
        "        ax.title.set_text('Поле - ' + str(c))\n",
        "        old_ds[c].hist(bins=50, ax=ax, density=True, color='green')\n",
        "        new_ds[c].hist(bins=50, ax=ax, color='blue', density=True, alpha=0.5)\n",
        "        plt.show()"
      ],
      "metadata": {
        "id": "Hfu-LPd6wkgX"
      },
      "execution_count": 51,
      "outputs": []
    },
    {
      "cell_type": "code",
      "source": [
        "plot_hist_diff(skip, skip_drop, hcols_with_na_temp)"
      ],
      "metadata": {
        "colab": {
          "base_uri": "https://localhost:8080/",
          "height": 0
        },
        "id": "vvP5o1PQwn7k",
        "outputId": "a4ed99e7-9190-4981-ba7f-89451140e147"
      },
      "execution_count": 52,
      "outputs": [
        {
          "output_type": "display_data",
          "data": {
            "text/plain": [
              "<Figure size 432x288 with 1 Axes>"
            ],
            "image/png": "[encoded data removed]"
          },
          "metadata": {}
        },
        {
          "output_type": "display_data",
          "data": {
            "text/plain": [
              "<Figure size 432x288 with 1 Axes>"
            ],
            "image/png": "[encoded data removed]"
          },
          "metadata": {}
        },
        {
          "output_type": "display_data",
          "data": {
            "text/plain": [
              "<Figure size 432x288 with 1 Axes>"
            ],
            "image/png": "[encoded data removed]"
          },
          "metadata": {}
        }
      ]
    },
    {
      "cell_type": "markdown",
      "source": [
        "Распределение ассиметричное и от удаления пропусков почти не изменилось. Датасет небольшого размера, поэтому не будем использовать метод заполнения случайными значениями. Пропуски распределены случайно, распределение не выглядит однозначно одномодальным. Из-за ассиметричности заполним пустые значения медианой распределения."
      ],
      "metadata": {
        "id": "T_Uj6czUxgbb"
      }
    },
    {
      "cell_type": "code",
      "source": [
        "def impute_column(dataset, column, strategy_param, fill_value_param=None):\n",
        "    \"\"\"\n",
        "    Заполнение пропусков в одном признаке\n",
        "    \"\"\"\n",
        "    temp_data = dataset[[column]].values\n",
        "    size = temp_data.shape[0]\n",
        "    \n",
        "    indicator = MissingIndicator()\n",
        "    mask_missing_values_only = indicator.fit_transform(temp_data)\n",
        "    \n",
        "    imputer = SimpleImputer(strategy=strategy_param, \n",
        "                            fill_value=fill_value_param)\n",
        "    all_data = imputer.fit_transform(temp_data)\n",
        "    \n",
        "    missed_data = temp_data[mask_missing_values_only]\n",
        "    filled_data = all_data[mask_missing_values_only]\n",
        "    \n",
        "    return all_data.reshape((size,)), filled_data, missed_data"
      ],
      "metadata": {
        "id": "AmQtn91byS3W"
      },
      "execution_count": 53,
      "outputs": []
    },
    {
      "cell_type": "code",
      "source": [
        "all_data, filled_data, missed_data = impute_column(skip, 'RAM', 'median')"
      ],
      "metadata": {
        "id": "b7mP3lJbyXfR"
      },
      "execution_count": 54,
      "outputs": []
    },
    {
      "cell_type": "code",
      "source": [
        "all_data"
      ],
      "metadata": {
        "colab": {
          "base_uri": "https://localhost:8080/"
        },
        "id": "5HjyA8L4yXV_",
        "outputId": "e6becfbf-4bca-4392-aa01-2972a296b934"
      },
      "execution_count": 55,
      "outputs": [
        {
          "output_type": "execute_result",
          "data": {
            "text/plain": [
              "array([ 8.,  8.,  8.,  8.,  8.,  8.,  4., 16.,  8.,  8.,  8.,  8.,  8.,\n",
              "        8.,  8.,  8.,  8.,  8.,  8.,  8.,  8.,  8.,  8.,  4.,  8.,  8.,\n",
              "       16.,  8.,  4.,  8.,  4.,  8.,  8.,  8., 16.,  8.,  8.,  8.,  8.,\n",
              "        8.,  4., 16.,  8.,  8.,  8.,  8.,  8.,  8.,  8.,  8.,  8.,  8.,\n",
              "        8.,  8.,  8.,  8.,  8.,  8.,  8.,  8.,  8.,  8.,  8., 16.,  8.,\n",
              "       16., 16.,  8., 16.,  8.,  8., 16.,  8.,  8., 16.,  8.,  8., 16.,\n",
              "        8.,  8.,  8.,  8.,  8., 16.,  4.,  8.,  8.,  8.,  8.,  4.,  8.,\n",
              "        8.,  4., 16.,  4.,  8.,  8., 16.,  8.,  8.,  8.,  8.,  8.,  8.,\n",
              "        8.,  8.,  8.,  8., 16.,  8., 16.,  8.,  4.,  8.,  8.,  8.,  4.,\n",
              "        8.,  4.,  4.,  8.,  8., 16.,  8.,  8.,  8.,  4.,  4.,  8.,  8.])"
            ]
          },
          "metadata": {},
          "execution_count": 55
        }
      ]
    },
    {
      "cell_type": "code",
      "source": [
        "filled_data"
      ],
      "metadata": {
        "colab": {
          "base_uri": "https://localhost:8080/"
        },
        "id": "p7naSR5Bzftw",
        "outputId": "29f875de-b537-4a66-ebf9-1ed5fbe14da9"
      },
      "execution_count": 56,
      "outputs": [
        {
          "output_type": "execute_result",
          "data": {
            "text/plain": [
              "array([8., 8., 8., 8., 8., 8., 8., 8.])"
            ]
          },
          "metadata": {},
          "execution_count": 56
        }
      ]
    },
    {
      "cell_type": "code",
      "source": [
        "missed_data"
      ],
      "metadata": {
        "colab": {
          "base_uri": "https://localhost:8080/"
        },
        "id": "MPBd8ts4zgRX",
        "outputId": "656884ff-cb77-406a-803e-b922f0ce6bc4"
      },
      "execution_count": 57,
      "outputs": [
        {
          "output_type": "execute_result",
          "data": {
            "text/plain": [
              "array([nan, nan, nan, nan, nan, nan, nan, nan])"
            ]
          },
          "metadata": {},
          "execution_count": 57
        }
      ]
    },
    {
      "cell_type": "code",
      "source": [
        "def research_impute_numeric_column(dataset, num_column, const_value=None):\n",
        "    strategy_params = ['mean', 'median', 'most_frequent', 'constant']\n",
        "    strategy_params_names = ['Среднее', 'Медиана', 'Мода']\n",
        "    strategy_params_names.append('Константа = ' + str(const_value))\n",
        "    \n",
        "    original_temp_data = dataset[[num_column]].values\n",
        "    size = original_temp_data.shape[0]\n",
        "    original_data = original_temp_data.reshape((size,))\n",
        "    \n",
        "    new_df = pd.DataFrame({'Исходные данные':original_data})\n",
        "       \n",
        "    for i in range(len(strategy_params)):\n",
        "        strategy = strategy_params[i]\n",
        "        col_name = strategy_params_names[i]\n",
        "        if (strategy!='constant') or (strategy == 'constant' and const_value!=None):\n",
        "            if strategy == 'constant':\n",
        "                temp_data, _, _ = impute_column(dataset, num_column, strategy, fill_value_param=const_value)\n",
        "            else:\n",
        "                temp_data, _, _ = impute_column(dataset, num_column, strategy)\n",
        "            new_df[col_name] = temp_data\n",
        "        \n",
        "    sns.kdeplot(data=new_df)"
      ],
      "metadata": {
        "id": "5IsqwixT1Z-0"
      },
      "execution_count": 58,
      "outputs": []
    },
    {
      "cell_type": "code",
      "source": [
        "research_impute_numeric_column(skip, 'RAM', 8.0)"
      ],
      "metadata": {
        "colab": {
          "base_uri": "https://localhost:8080/",
          "height": 0
        },
        "id": "6cwAWyDv1arU",
        "outputId": "1616f76b-39da-4660-f7f8-a0837ba3ad69"
      },
      "execution_count": 59,
      "outputs": [
        {
          "output_type": "display_data",
          "data": {
            "text/plain": [
              "<Figure size 432x288 with 1 Axes>"
            ],
            "image/png": "[encoded data removed]"
          },
          "metadata": {}
        }
      ]
    },
    {
      "cell_type": "markdown",
      "source": [
        "## Кодирование категориальных признаков"
      ],
      "metadata": {
        "id": "YLepsspT03_3"
      }
    },
    {
      "cell_type": "code",
      "source": [
        "data_code = pd.read_csv('/content/drive/MyDrive/MMO/laptop.csv', sep=\",\")"
      ],
      "metadata": {
        "id": "GlZ_bJDM0_aW"
      },
      "execution_count": 60,
      "outputs": []
    },
    {
      "cell_type": "code",
      "source": [
        "data_code.head()"
      ],
      "metadata": {
        "colab": {
          "base_uri": "https://localhost:8080/",
          "height": 206
        },
        "id": "F2f33dt21KyQ",
        "outputId": "4db78b85-bf0b-46ba-89e2-4d060b6573b9"
      },
      "execution_count": 61,
      "outputs": [
        {
          "output_type": "execute_result",
          "data": {
            "text/plain": [
              "   Unnamed: 0 Brand     Model  Series Processor Processor_Gen  RAM  \\\n",
              "0           0  DELL  Inspiron     NaN        i3          11th  8.0   \n",
              "1           1  DELL    Vostro     NaN        i5          11th  8.0   \n",
              "2           2  ASUS  VivoBook      15        i3          10th  8.0   \n",
              "3           3  DELL  Inspiron     NaN        i3          11th  8.0   \n",
              "4           4  ASUS       TUF  Gaming        i5          10th  8.0   \n",
              "\n",
              "  Hard_Disk_Capacity               OS  Rating  Price  \n",
              "0           1 TB HDD  Windows 11 Home     3.7  39040  \n",
              "1           1 TB HDD  Windows 10 Home     3.6  50840  \n",
              "2         512 GB SSD  Windows 11 Home     4.3  37940  \n",
              "3           1 TB HDD       256 GB SSD     4.4  44440  \n",
              "4         512 GB SSD  Windows 10 Home     4.5  57940  "
            ],
            "text/html": [
              "\n",
              "  <div id=\"df-373452f5-9fc5-4081-a3fb-82b21eb811ff\">\n",
              "    <div class=\"colab-df-container\">\n",
              "      <div>\n",
              "<style scoped>\n",
              "    .dataframe tbody tr th:only-of-type {\n",
              "        vertical-align: middle;\n",
              "    }\n",
              "\n",
              "    .dataframe tbody tr th {\n",
              "        vertical-align: top;\n",
              "    }\n",
              "\n",
              "    .dataframe thead th {\n",
              "        text-align: right;\n",
              "    }\n",
              "</style>\n",
              "<table border=\"1\" class=\"dataframe\">\n",
              "  <thead>\n",
              "    <tr style=\"text-align: right;\">\n",
              "      <th></th>\n",
              "      <th>Unnamed: 0</th>\n",
              "      <th>Brand</th>\n",
              "      <th>Model</th>\n",
              "      <th>Series</th>\n",
              "      <th>Processor</th>\n",
              "      <th>Processor_Gen</th>\n",
              "      <th>RAM</th>\n",
              "      <th>Hard_Disk_Capacity</th>\n",
              "      <th>OS</th>\n",
              "      <th>Rating</th>\n",
              "      <th>Price</th>\n",
              "    </tr>\n",
              "  </thead>\n",
              "  <tbody>\n",
              "    <tr>\n",
              "      <th>0</th>\n",
              "      <td>0</td>\n",
              "      <td>DELL</td>\n",
              "      <td>Inspiron</td>\n",
              "      <td>NaN</td>\n",
              "      <td>i3</td>\n",
              "      <td>11th</td>\n",
              "      <td>8.0</td>\n",
              "      <td>1 TB HDD</td>\n",
              "      <td>Windows 11 Home</td>\n",
              "      <td>3.7</td>\n",
              "      <td>39040</td>\n",
              "    </tr>\n",
              "    <tr>\n",
              "      <th>1</th>\n",
              "      <td>1</td>\n",
              "      <td>DELL</td>\n",
              "      <td>Vostro</td>\n",
              "      <td>NaN</td>\n",
              "      <td>i5</td>\n",
              "      <td>11th</td>\n",
              "      <td>8.0</td>\n",
              "      <td>1 TB HDD</td>\n",
              "      <td>Windows 10 Home</td>\n",
              "      <td>3.6</td>\n",
              "      <td>50840</td>\n",
              "    </tr>\n",
              "    <tr>\n",
              "      <th>2</th>\n",
              "      <td>2</td>\n",
              "      <td>ASUS</td>\n",
              "      <td>VivoBook</td>\n",
              "      <td>15</td>\n",
              "      <td>i3</td>\n",
              "      <td>10th</td>\n",
              "      <td>8.0</td>\n",
              "      <td>512 GB SSD</td>\n",
              "      <td>Windows 11 Home</td>\n",
              "      <td>4.3</td>\n",
              "      <td>37940</td>\n",
              "    </tr>\n",
              "    <tr>\n",
              "      <th>3</th>\n",
              "      <td>3</td>\n",
              "      <td>DELL</td>\n",
              "      <td>Inspiron</td>\n",
              "      <td>NaN</td>\n",
              "      <td>i3</td>\n",
              "      <td>11th</td>\n",
              "      <td>8.0</td>\n",
              "      <td>1 TB HDD</td>\n",
              "      <td>256 GB SSD</td>\n",
              "      <td>4.4</td>\n",
              "      <td>44440</td>\n",
              "    </tr>\n",
              "    <tr>\n",
              "      <th>4</th>\n",
              "      <td>4</td>\n",
              "      <td>ASUS</td>\n",
              "      <td>TUF</td>\n",
              "      <td>Gaming</td>\n",
              "      <td>i5</td>\n",
              "      <td>10th</td>\n",
              "      <td>8.0</td>\n",
              "      <td>512 GB SSD</td>\n",
              "      <td>Windows 10 Home</td>\n",
              "      <td>4.5</td>\n",
              "      <td>57940</td>\n",
              "    </tr>\n",
              "  </tbody>\n",
              "</table>\n",
              "</div>\n",
              "      <button class=\"colab-df-convert\" onclick=\"convertToInteractive('df-373452f5-9fc5-4081-a3fb-82b21eb811ff')\"\n",
              "              title=\"Convert this dataframe to an interactive table.\"\n",
              "              style=\"display:none;\">\n",
              "        \n",
              "  <svg xmlns=\"http://www.w3.org/2000/svg\" height=\"24px\"viewBox=\"0 0 24 24\"\n",
              "       width=\"24px\">\n",
              "    <path d=\"M0 0h24v24H0V0z\" fill=\"none\"/>\n",
              "    <path d=\"M18.56 5.44l.94 2.06.94-2.06 2.06-.94-2.06-.94-.94-2.06-.94 2.06-2.06.94zm-11 1L8.5 8.5l.94-2.06 2.06-.94-2.06-.94L8.5 2.5l-.94 2.06-2.06.94zm10 10l.94 2.06.94-2.06 2.06-.94-2.06-.94-.94-2.06-.94 2.06-2.06.94z\"/><path d=\"M17.41 7.96l-1.37-1.37c-.4-.4-.92-.59-1.43-.59-.52 0-1.04.2-1.43.59L10.3 9.45l-7.72 7.72c-.78.78-.78 2.05 0 2.83L4 21.41c.39.39.9.59 1.41.59.51 0 1.02-.2 1.41-.59l7.78-7.78 2.81-2.81c.8-.78.8-2.07 0-2.86zM5.41 20L4 18.59l7.72-7.72 1.47 1.35L5.41 20z\"/>\n",
              "  </svg>\n",
              "      </button>\n",
              "      \n",
              "  <style>\n",
              "    .colab-df-container {\n",
              "      display:flex;\n",
              "      flex-wrap:wrap;\n",
              "      gap: 12px;\n",
              "    }\n",
              "\n",
              "    .colab-df-convert {\n",
              "      background-color: #E8F0FE;\n",
              "      border: none;\n",
              "      border-radius: 50%;\n",
              "      cursor: pointer;\n",
              "      display: none;\n",
              "      fill: #1967D2;\n",
              "      height: 32px;\n",
              "      padding: 0 0 0 0;\n",
              "      width: 32px;\n",
              "    }\n",
              "\n",
              "    .colab-df-convert:hover {\n",
              "      background-color: #E2EBFA;\n",
              "      box-shadow: 0px 1px 2px rgba(60, 64, 67, 0.3), 0px 1px 3px 1px rgba(60, 64, 67, 0.15);\n",
              "      fill: #174EA6;\n",
              "    }\n",
              "\n",
              "    [theme=dark] .colab-df-convert {\n",
              "      background-color: #3B4455;\n",
              "      fill: #D2E3FC;\n",
              "    }\n",
              "\n",
              "    [theme=dark] .colab-df-convert:hover {\n",
              "      background-color: #434B5C;\n",
              "      box-shadow: 0px 1px 3px 1px rgba(0, 0, 0, 0.15);\n",
              "      filter: drop-shadow(0px 1px 2px rgba(0, 0, 0, 0.3));\n",
              "      fill: #FFFFFF;\n",
              "    }\n",
              "  </style>\n",
              "\n",
              "      <script>\n",
              "        const buttonEl =\n",
              "          document.querySelector('#df-373452f5-9fc5-4081-a3fb-82b21eb811ff button.colab-df-convert');\n",
              "        buttonEl.style.display =\n",
              "          google.colab.kernel.accessAllowed ? 'block' : 'none';\n",
              "\n",
              "        async function convertToInteractive(key) {\n",
              "          const element = document.querySelector('#df-373452f5-9fc5-4081-a3fb-82b21eb811ff');\n",
              "          const dataTable =\n",
              "            await google.colab.kernel.invokeFunction('convertToInteractive',\n",
              "                                                     [key], {});\n",
              "          if (!dataTable) return;\n",
              "\n",
              "          const docLinkHtml = 'Like what you see? Visit the ' +\n",
              "            '<a target=\"_blank\" href=https://colab.research.google.com/notebooks/data_table.ipynb>data table notebook</a>'\n",
              "            + ' to learn more about interactive tables.';\n",
              "          element.innerHTML = '';\n",
              "          dataTable['output_type'] = 'display_data';\n",
              "          await google.colab.output.renderOutput(dataTable, element);\n",
              "          const docLink = document.createElement('div');\n",
              "          docLink.innerHTML = docLinkHtml;\n",
              "          element.appendChild(docLink);\n",
              "        }\n",
              "      </script>\n",
              "    </div>\n",
              "  </div>\n",
              "  "
            ]
          },
          "metadata": {},
          "execution_count": 61
        }
      ]
    },
    {
      "cell_type": "code",
      "source": [
        "!pip install category_encoders\n",
        "from category_encoders.target_encoder import TargetEncoder as ce_TargetEncoder\n",
        "data_coded = ce_TargetEncoder().fit_transform(data_code[data_code.columns.difference(['Brand', 'Model', 'RAM'])], data_code['RAM'])"
      ],
      "metadata": {
        "colab": {
          "base_uri": "https://localhost:8080/"
        },
        "id": "4WUY-ABW1Ouw",
        "outputId": "91b982de-5e8e-4fb1-bb3e-f63987daf091"
      },
      "execution_count": 66,
      "outputs": [
        {
          "output_type": "stream",
          "name": "stdout",
          "text": [
            "Looking in indexes: https://pypi.org/simple, https://us-python.pkg.dev/colab-wheels/public/simple/\n",
            "Requirement already satisfied: category_encoders in /usr/local/lib/python3.7/dist-packages (2.4.1)\n",
            "Requirement already satisfied: scikit-learn>=0.20.0 in /usr/local/lib/python3.7/dist-packages (from category_encoders) (1.0.2)\n",
            "Requirement already satisfied: numpy>=1.14.0 in /usr/local/lib/python3.7/dist-packages (from category_encoders) (1.21.6)\n",
            "Requirement already satisfied: scipy>=1.0.0 in /usr/local/lib/python3.7/dist-packages (from category_encoders) (1.4.1)\n",
            "Requirement already satisfied: pandas>=0.21.1 in /usr/local/lib/python3.7/dist-packages (from category_encoders) (1.3.5)\n",
            "Requirement already satisfied: statsmodels>=0.9.0 in /usr/local/lib/python3.7/dist-packages (from category_encoders) (0.10.2)\n",
            "Requirement already satisfied: patsy>=0.5.1 in /usr/local/lib/python3.7/dist-packages (from category_encoders) (0.5.2)\n",
            "Requirement already satisfied: python-dateutil>=2.7.3 in /usr/local/lib/python3.7/dist-packages (from pandas>=0.21.1->category_encoders) (2.8.2)\n",
            "Requirement already satisfied: pytz>=2017.3 in /usr/local/lib/python3.7/dist-packages (from pandas>=0.21.1->category_encoders) (2022.1)\n",
            "Requirement already satisfied: six in /usr/local/lib/python3.7/dist-packages (from patsy>=0.5.1->category_encoders) (1.15.0)\n",
            "Requirement already satisfied: joblib>=0.11 in /usr/local/lib/python3.7/dist-packages (from scikit-learn>=0.20.0->category_encoders) (1.1.0)\n",
            "Requirement already satisfied: threadpoolctl>=2.0.0 in /usr/local/lib/python3.7/dist-packages (from scikit-learn>=0.20.0->category_encoders) (3.1.0)\n"
          ]
        }
      ]
    },
    {
      "cell_type": "code",
      "source": [
        "data_coded"
      ],
      "metadata": {
        "colab": {
          "base_uri": "https://localhost:8080/",
          "height": 424
        },
        "id": "Ez1wGn5s1QZm",
        "outputId": "a3f66000-e829-4708-c7be-e1964bab8cdc"
      },
      "execution_count": 67,
      "outputs": [
        {
          "output_type": "execute_result",
          "data": {
            "text/plain": [
              "     Hard_Disk_Capacity        OS  Price  Processor  Processor_Gen  Rating  \\\n",
              "0              8.093023  8.181818  39040   7.379310       9.507246     3.7   \n",
              "1              8.093023  8.869565  50840  10.777778       9.507246     3.6   \n",
              "2             10.000000  8.181818  37940   7.379310       7.666667     4.3   \n",
              "3              8.093023  9.999997  44440   7.379310       9.507246     4.4   \n",
              "4             10.000000  8.869565  57940  10.777778       7.666667     4.5   \n",
              "..                  ...       ...    ...        ...            ...     ...   \n",
              "125            8.093023  8.181818  39040   7.379310       9.507246     3.7   \n",
              "126            8.093023  4.868760  32905   7.379310       5.243303     4.2   \n",
              "127            8.093023  4.868760  39949   7.379310       7.666667     3.1   \n",
              "128            8.093023  8.869565  42750   7.379310       9.507246     2.9   \n",
              "129            7.200000  8.181818  39940   7.379310       9.507246     4.3   \n",
              "\n",
              "        Series  Unnamed: 0  \n",
              "0     8.320000           0  \n",
              "1     8.320000           1  \n",
              "2     7.001479           2  \n",
              "3     8.320000           3  \n",
              "4    11.421634           4  \n",
              "..         ...         ...  \n",
              "125   8.320000         125  \n",
              "126   8.320000         126  \n",
              "127   8.320000         127  \n",
              "128   7.001479         128  \n",
              "129   8.000000         129  \n",
              "\n",
              "[130 rows x 8 columns]"
            ],
            "text/html": [
              "\n",
              "  <div id=\"df-480c5bcf-75f1-40e1-a954-4c7583625d74\">\n",
              "    <div class=\"colab-df-container\">\n",
              "      <div>\n",
              "<style scoped>\n",
              "    .dataframe tbody tr th:only-of-type {\n",
              "        vertical-align: middle;\n",
              "    }\n",
              "\n",
              "    .dataframe tbody tr th {\n",
              "        vertical-align: top;\n",
              "    }\n",
              "\n",
              "    .dataframe thead th {\n",
              "        text-align: right;\n",
              "    }\n",
              "</style>\n",
              "<table border=\"1\" class=\"dataframe\">\n",
              "  <thead>\n",
              "    <tr style=\"text-align: right;\">\n",
              "      <th></th>\n",
              "      <th>Hard_Disk_Capacity</th>\n",
              "      <th>OS</th>\n",
              "      <th>Price</th>\n",
              "      <th>Processor</th>\n",
              "      <th>Processor_Gen</th>\n",
              "      <th>Rating</th>\n",
              "      <th>Series</th>\n",
              "      <th>Unnamed: 0</th>\n",
              "    </tr>\n",
              "  </thead>\n",
              "  <tbody>\n",
              "    <tr>\n",
              "      <th>0</th>\n",
              "      <td>8.093023</td>\n",
              "      <td>8.181818</td>\n",
              "      <td>39040</td>\n",
              "      <td>7.379310</td>\n",
              "      <td>9.507246</td>\n",
              "      <td>3.7</td>\n",
              "      <td>8.320000</td>\n",
              "      <td>0</td>\n",
              "    </tr>\n",
              "    <tr>\n",
              "      <th>1</th>\n",
              "      <td>8.093023</td>\n",
              "      <td>8.869565</td>\n",
              "      <td>50840</td>\n",
              "      <td>10.777778</td>\n",
              "      <td>9.507246</td>\n",
              "      <td>3.6</td>\n",
              "      <td>8.320000</td>\n",
              "      <td>1</td>\n",
              "    </tr>\n",
              "    <tr>\n",
              "      <th>2</th>\n",
              "      <td>10.000000</td>\n",
              "      <td>8.181818</td>\n",
              "      <td>37940</td>\n",
              "      <td>7.379310</td>\n",
              "      <td>7.666667</td>\n",
              "      <td>4.3</td>\n",
              "      <td>7.001479</td>\n",
              "      <td>2</td>\n",
              "    </tr>\n",
              "    <tr>\n",
              "      <th>3</th>\n",
              "      <td>8.093023</td>\n",
              "      <td>9.999997</td>\n",
              "      <td>44440</td>\n",
              "      <td>7.379310</td>\n",
              "      <td>9.507246</td>\n",
              "      <td>4.4</td>\n",
              "      <td>8.320000</td>\n",
              "      <td>3</td>\n",
              "    </tr>\n",
              "    <tr>\n",
              "      <th>4</th>\n",
              "      <td>10.000000</td>\n",
              "      <td>8.869565</td>\n",
              "      <td>57940</td>\n",
              "      <td>10.777778</td>\n",
              "      <td>7.666667</td>\n",
              "      <td>4.5</td>\n",
              "      <td>11.421634</td>\n",
              "      <td>4</td>\n",
              "    </tr>\n",
              "    <tr>\n",
              "      <th>...</th>\n",
              "      <td>...</td>\n",
              "      <td>...</td>\n",
              "      <td>...</td>\n",
              "      <td>...</td>\n",
              "      <td>...</td>\n",
              "      <td>...</td>\n",
              "      <td>...</td>\n",
              "      <td>...</td>\n",
              "    </tr>\n",
              "    <tr>\n",
              "      <th>125</th>\n",
              "      <td>8.093023</td>\n",
              "      <td>8.181818</td>\n",
              "      <td>39040</td>\n",
              "      <td>7.379310</td>\n",
              "      <td>9.507246</td>\n",
              "      <td>3.7</td>\n",
              "      <td>8.320000</td>\n",
              "      <td>125</td>\n",
              "    </tr>\n",
              "    <tr>\n",
              "      <th>126</th>\n",
              "      <td>8.093023</td>\n",
              "      <td>4.868760</td>\n",
              "      <td>32905</td>\n",
              "      <td>7.379310</td>\n",
              "      <td>5.243303</td>\n",
              "      <td>4.2</td>\n",
              "      <td>8.320000</td>\n",
              "      <td>126</td>\n",
              "    </tr>\n",
              "    <tr>\n",
              "      <th>127</th>\n",
              "      <td>8.093023</td>\n",
              "      <td>4.868760</td>\n",
              "      <td>39949</td>\n",
              "      <td>7.379310</td>\n",
              "      <td>7.666667</td>\n",
              "      <td>3.1</td>\n",
              "      <td>8.320000</td>\n",
              "      <td>127</td>\n",
              "    </tr>\n",
              "    <tr>\n",
              "      <th>128</th>\n",
              "      <td>8.093023</td>\n",
              "      <td>8.869565</td>\n",
              "      <td>42750</td>\n",
              "      <td>7.379310</td>\n",
              "      <td>9.507246</td>\n",
              "      <td>2.9</td>\n",
              "      <td>7.001479</td>\n",
              "      <td>128</td>\n",
              "    </tr>\n",
              "    <tr>\n",
              "      <th>129</th>\n",
              "      <td>7.200000</td>\n",
              "      <td>8.181818</td>\n",
              "      <td>39940</td>\n",
              "      <td>7.379310</td>\n",
              "      <td>9.507246</td>\n",
              "      <td>4.3</td>\n",
              "      <td>8.000000</td>\n",
              "      <td>129</td>\n",
              "    </tr>\n",
              "  </tbody>\n",
              "</table>\n",
              "<p>130 rows × 8 columns</p>\n",
              "</div>\n",
              "      <button class=\"colab-df-convert\" onclick=\"convertToInteractive('df-480c5bcf-75f1-40e1-a954-4c7583625d74')\"\n",
              "              title=\"Convert this dataframe to an interactive table.\"\n",
              "              style=\"display:none;\">\n",
              "        \n",
              "  <svg xmlns=\"http://www.w3.org/2000/svg\" height=\"24px\"viewBox=\"0 0 24 24\"\n",
              "       width=\"24px\">\n",
              "    <path d=\"M0 0h24v24H0V0z\" fill=\"none\"/>\n",
              "    <path d=\"M18.56 5.44l.94 2.06.94-2.06 2.06-.94-2.06-.94-.94-2.06-.94 2.06-2.06.94zm-11 1L8.5 8.5l.94-2.06 2.06-.94-2.06-.94L8.5 2.5l-.94 2.06-2.06.94zm10 10l.94 2.06.94-2.06 2.06-.94-2.06-.94-.94-2.06-.94 2.06-2.06.94z\"/><path d=\"M17.41 7.96l-1.37-1.37c-.4-.4-.92-.59-1.43-.59-.52 0-1.04.2-1.43.59L10.3 9.45l-7.72 7.72c-.78.78-.78 2.05 0 2.83L4 21.41c.39.39.9.59 1.41.59.51 0 1.02-.2 1.41-.59l7.78-7.78 2.81-2.81c.8-.78.8-2.07 0-2.86zM5.41 20L4 18.59l7.72-7.72 1.47 1.35L5.41 20z\"/>\n",
              "  </svg>\n",
              "      </button>\n",
              "      \n",
              "  <style>\n",
              "    .colab-df-container {\n",
              "      display:flex;\n",
              "      flex-wrap:wrap;\n",
              "      gap: 12px;\n",
              "    }\n",
              "\n",
              "    .colab-df-convert {\n",
              "      background-color: #E8F0FE;\n",
              "      border: none;\n",
              "      border-radius: 50%;\n",
              "      cursor: pointer;\n",
              "      display: none;\n",
              "      fill: #1967D2;\n",
              "      height: 32px;\n",
              "      padding: 0 0 0 0;\n",
              "      width: 32px;\n",
              "    }\n",
              "\n",
              "    .colab-df-convert:hover {\n",
              "      background-color: #E2EBFA;\n",
              "      box-shadow: 0px 1px 2px rgba(60, 64, 67, 0.3), 0px 1px 3px 1px rgba(60, 64, 67, 0.15);\n",
              "      fill: #174EA6;\n",
              "    }\n",
              "\n",
              "    [theme=dark] .colab-df-convert {\n",
              "      background-color: #3B4455;\n",
              "      fill: #D2E3FC;\n",
              "    }\n",
              "\n",
              "    [theme=dark] .colab-df-convert:hover {\n",
              "      background-color: #434B5C;\n",
              "      box-shadow: 0px 1px 3px 1px rgba(0, 0, 0, 0.15);\n",
              "      filter: drop-shadow(0px 1px 2px rgba(0, 0, 0, 0.3));\n",
              "      fill: #FFFFFF;\n",
              "    }\n",
              "  </style>\n",
              "\n",
              "      <script>\n",
              "        const buttonEl =\n",
              "          document.querySelector('#df-480c5bcf-75f1-40e1-a954-4c7583625d74 button.colab-df-convert');\n",
              "        buttonEl.style.display =\n",
              "          google.colab.kernel.accessAllowed ? 'block' : 'none';\n",
              "\n",
              "        async function convertToInteractive(key) {\n",
              "          const element = document.querySelector('#df-480c5bcf-75f1-40e1-a954-4c7583625d74');\n",
              "          const dataTable =\n",
              "            await google.colab.kernel.invokeFunction('convertToInteractive',\n",
              "                                                     [key], {});\n",
              "          if (!dataTable) return;\n",
              "\n",
              "          const docLinkHtml = 'Like what you see? Visit the ' +\n",
              "            '<a target=\"_blank\" href=https://colab.research.google.com/notebooks/data_table.ipynb>data table notebook</a>'\n",
              "            + ' to learn more about interactive tables.';\n",
              "          element.innerHTML = '';\n",
              "          dataTable['output_type'] = 'display_data';\n",
              "          await google.colab.output.renderOutput(dataTable, element);\n",
              "          const docLink = document.createElement('div');\n",
              "          docLink.innerHTML = docLinkHtml;\n",
              "          element.appendChild(docLink);\n",
              "        }\n",
              "      </script>\n",
              "    </div>\n",
              "  </div>\n",
              "  "
            ]
          },
          "metadata": {},
          "execution_count": 67
        }
      ]
    },
    {
      "cell_type": "code",
      "source": [
        "data_code['OS'].unique()"
      ],
      "metadata": {
        "colab": {
          "base_uri": "https://localhost:8080/"
        },
        "id": "rNk-eCiBEqfk",
        "outputId": "d8d9977e-d215-4d0d-9617-18e40cc1b2e8"
      },
      "execution_count": 68,
      "outputs": [
        {
          "output_type": "execute_result",
          "data": {
            "text/plain": [
              "array(['Windows 11 Home', 'Windows 10 Home', '256 GB SSD', 'Windows 10',\n",
              "       'DOS', nan, 'Chrome OS', '128 GB SSD'], dtype=object)"
            ]
          },
          "metadata": {},
          "execution_count": 68
        }
      ]
    },
    {
      "cell_type": "code",
      "source": [
        "data_code['Processor'].unique()"
      ],
      "metadata": {
        "colab": {
          "base_uri": "https://localhost:8080/"
        },
        "id": "Y8BOjaMqFB2N",
        "outputId": "4f1e14ae-7c8e-4155-9902-be20abb7e16f"
      },
      "execution_count": 69,
      "outputs": [
        {
          "output_type": "execute_result",
          "data": {
            "text/plain": [
              "array(['i3', 'i5', '3250U', '3050U', '5600U', '-', '5500U', 'i7', '5300U',\n",
              "       '5600H', '3450U', nan, '4800HS', '4600H', '4800H', 'R3-3250U',\n",
              "       'AMD', 'A9'], dtype=object)"
            ]
          },
          "metadata": {},
          "execution_count": 69
        }
      ]
    },
    {
      "cell_type": "code",
      "source": [
        "data_coded['Processor'].unique()"
      ],
      "metadata": {
        "colab": {
          "base_uri": "https://localhost:8080/"
        },
        "id": "S3OI3JVAFM75",
        "outputId": "0d3a1ebd-d2af-4861-9244-cf7cb79427ad"
      },
      "execution_count": 70,
      "outputs": [
        {
          "output_type": "execute_result",
          "data": {
            "text/plain": [
              "array([ 7.37931034, 10.77777778,  8.07425756,  8.62295082,  5.65437143,\n",
              "        8.16753728, 13.74498875,         nan])"
            ]
          },
          "metadata": {},
          "execution_count": 70
        }
      ]
    },
    {
      "cell_type": "code",
      "source": [
        "data_coded['OS'].unique()"
      ],
      "metadata": {
        "colab": {
          "base_uri": "https://localhost:8080/"
        },
        "id": "MLDaI_c0FSER",
        "outputId": "205432e7-4fac-47d7-de30-344f8d514ad8"
      },
      "execution_count": 71,
      "outputs": [
        {
          "output_type": "execute_result",
          "data": {
            "text/plain": [
              "array([ 8.18181818,  8.86956522,  9.99999689, 10.39978072,  4.8687604 ,\n",
              "               nan,  5.24330296,  8.62295082])"
            ]
          },
          "metadata": {},
          "execution_count": 71
        }
      ]
    },
    {
      "cell_type": "code",
      "source": [
        "#закодировать лейблами категории и конкатенировать\n",
        "le = LabelEncoder()\n",
        "category_le = le.fit_transform(data_code['Hard_Disk_Capacity'])"
      ],
      "metadata": {
        "id": "dlobFWU6FXl9"
      },
      "execution_count": 72,
      "outputs": []
    },
    {
      "cell_type": "code",
      "source": [
        "np.unique(category_le)"
      ],
      "metadata": {
        "colab": {
          "base_uri": "https://localhost:8080/"
        },
        "id": "Js5PmhY0FbzW",
        "outputId": "83747a61-3eb0-4a49-ee1e-75f223f74235"
      },
      "execution_count": 73,
      "outputs": [
        {
          "output_type": "execute_result",
          "data": {
            "text/plain": [
              "array([0, 1, 2, 3, 4, 5, 6, 7])"
            ]
          },
          "metadata": {},
          "execution_count": 73
        }
      ]
    },
    {
      "cell_type": "code",
      "source": [
        "#преобразуем полученный массив в колонку\n",
        "data_tempor = np.array(category_le)\n",
        "data_le = pd.DataFrame(data_tempor, columns=['category_le'])"
      ],
      "metadata": {
        "id": "psWNN6sAFeVd"
      },
      "execution_count": 74,
      "outputs": []
    },
    {
      "cell_type": "code",
      "source": [
        "#объединяем колонки оригинальной таблицы с кодированными колонками \n",
        "data_result = pd.concat([data_le['category_le'], data_code.iloc[:, 1:4], data_coded['Processor'], data_code['Price'], data_coded['OS'], data_code[['Model', 'RAM']]], axis=1)"
      ],
      "metadata": {
        "id": "To9UNclkFiDt"
      },
      "execution_count": 75,
      "outputs": []
    },
    {
      "cell_type": "code",
      "source": [
        "#итоговая таблица с кодированными категориальными признаками.\n",
        "data_result.head(10)"
      ],
      "metadata": {
        "colab": {
          "base_uri": "https://localhost:8080/",
          "height": 363
        },
        "id": "JZBNKXFgFhYT",
        "outputId": "3071ffb4-4649-4175-9af4-c4b62b3be17e"
      },
      "execution_count": 76,
      "outputs": [
        {
          "output_type": "execute_result",
          "data": {
            "text/plain": [
              "   category_le   Brand     Model  Series  Processor  Price         OS  \\\n",
              "0            0    DELL  Inspiron     NaN   7.379310  39040   8.181818   \n",
              "1            0    DELL    Vostro     NaN  10.777778  50840   8.869565   \n",
              "2            5    ASUS  VivoBook      15   7.379310  37940   8.181818   \n",
              "3            0    DELL  Inspiron     NaN   7.379310  44440   9.999997   \n",
              "4            5    ASUS       TUF  Gaming  10.777778  57940   8.869565   \n",
              "5            3    ASUS     Ryzen       3   8.074258  35940   8.869565   \n",
              "6            3    DELL  Inspiron  Athlon   8.622951  33940   8.181818   \n",
              "7            5    DELL  Inspiron     NaN  10.777778  69040  10.399781   \n",
              "8            0  Lenovo   IdeaPad       3   7.379310  37440   8.869565   \n",
              "9            5      HP       NaN     NaN  10.777778  56449   8.181818   \n",
              "\n",
              "      Model   RAM  \n",
              "0  Inspiron   8.0  \n",
              "1    Vostro   8.0  \n",
              "2  VivoBook   8.0  \n",
              "3  Inspiron   8.0  \n",
              "4       TUF   8.0  \n",
              "5     Ryzen   8.0  \n",
              "6  Inspiron   4.0  \n",
              "7  Inspiron  16.0  \n",
              "8   IdeaPad   8.0  \n",
              "9       NaN   8.0  "
            ],
            "text/html": [
              "\n",
              "  <div id=\"df-a048d5cd-2bf2-45bb-8a7d-5199296f4113\">\n",
              "    <div class=\"colab-df-container\">\n",
              "      <div>\n",
              "<style scoped>\n",
              "    .dataframe tbody tr th:only-of-type {\n",
              "        vertical-align: middle;\n",
              "    }\n",
              "\n",
              "    .dataframe tbody tr th {\n",
              "        vertical-align: top;\n",
              "    }\n",
              "\n",
              "    .dataframe thead th {\n",
              "        text-align: right;\n",
              "    }\n",
              "</style>\n",
              "<table border=\"1\" class=\"dataframe\">\n",
              "  <thead>\n",
              "    <tr style=\"text-align: right;\">\n",
              "      <th></th>\n",
              "      <th>category_le</th>\n",
              "      <th>Brand</th>\n",
              "      <th>Model</th>\n",
              "      <th>Series</th>\n",
              "      <th>Processor</th>\n",
              "      <th>Price</th>\n",
              "      <th>OS</th>\n",
              "      <th>Model</th>\n",
              "      <th>RAM</th>\n",
              "    </tr>\n",
              "  </thead>\n",
              "  <tbody>\n",
              "    <tr>\n",
              "      <th>0</th>\n",
              "      <td>0</td>\n",
              "      <td>DELL</td>\n",
              "      <td>Inspiron</td>\n",
              "      <td>NaN</td>\n",
              "      <td>7.379310</td>\n",
              "      <td>39040</td>\n",
              "      <td>8.181818</td>\n",
              "      <td>Inspiron</td>\n",
              "      <td>8.0</td>\n",
              "    </tr>\n",
              "    <tr>\n",
              "      <th>1</th>\n",
              "      <td>0</td>\n",
              "      <td>DELL</td>\n",
              "      <td>Vostro</td>\n",
              "      <td>NaN</td>\n",
              "      <td>10.777778</td>\n",
              "      <td>50840</td>\n",
              "      <td>8.869565</td>\n",
              "      <td>Vostro</td>\n",
              "      <td>8.0</td>\n",
              "    </tr>\n",
              "    <tr>\n",
              "      <th>2</th>\n",
              "      <td>5</td>\n",
              "      <td>ASUS</td>\n",
              "      <td>VivoBook</td>\n",
              "      <td>15</td>\n",
              "      <td>7.379310</td>\n",
              "      <td>37940</td>\n",
              "      <td>8.181818</td>\n",
              "      <td>VivoBook</td>\n",
              "      <td>8.0</td>\n",
              "    </tr>\n",
              "    <tr>\n",
              "      <th>3</th>\n",
              "      <td>0</td>\n",
              "      <td>DELL</td>\n",
              "      <td>Inspiron</td>\n",
              "      <td>NaN</td>\n",
              "      <td>7.379310</td>\n",
              "      <td>44440</td>\n",
              "      <td>9.999997</td>\n",
              "      <td>Inspiron</td>\n",
              "      <td>8.0</td>\n",
              "    </tr>\n",
              "    <tr>\n",
              "      <th>4</th>\n",
              "      <td>5</td>\n",
              "      <td>ASUS</td>\n",
              "      <td>TUF</td>\n",
              "      <td>Gaming</td>\n",
              "      <td>10.777778</td>\n",
              "      <td>57940</td>\n",
              "      <td>8.869565</td>\n",
              "      <td>TUF</td>\n",
              "      <td>8.0</td>\n",
              "    </tr>\n",
              "    <tr>\n",
              "      <th>5</th>\n",
              "      <td>3</td>\n",
              "      <td>ASUS</td>\n",
              "      <td>Ryzen</td>\n",
              "      <td>3</td>\n",
              "      <td>8.074258</td>\n",
              "      <td>35940</td>\n",
              "      <td>8.869565</td>\n",
              "      <td>Ryzen</td>\n",
              "      <td>8.0</td>\n",
              "    </tr>\n",
              "    <tr>\n",
              "      <th>6</th>\n",
              "      <td>3</td>\n",
              "      <td>DELL</td>\n",
              "      <td>Inspiron</td>\n",
              "      <td>Athlon</td>\n",
              "      <td>8.622951</td>\n",
              "      <td>33940</td>\n",
              "      <td>8.181818</td>\n",
              "      <td>Inspiron</td>\n",
              "      <td>4.0</td>\n",
              "    </tr>\n",
              "    <tr>\n",
              "      <th>7</th>\n",
              "      <td>5</td>\n",
              "      <td>DELL</td>\n",
              "      <td>Inspiron</td>\n",
              "      <td>NaN</td>\n",
              "      <td>10.777778</td>\n",
              "      <td>69040</td>\n",
              "      <td>10.399781</td>\n",
              "      <td>Inspiron</td>\n",
              "      <td>16.0</td>\n",
              "    </tr>\n",
              "    <tr>\n",
              "      <th>8</th>\n",
              "      <td>0</td>\n",
              "      <td>Lenovo</td>\n",
              "      <td>IdeaPad</td>\n",
              "      <td>3</td>\n",
              "      <td>7.379310</td>\n",
              "      <td>37440</td>\n",
              "      <td>8.869565</td>\n",
              "      <td>IdeaPad</td>\n",
              "      <td>8.0</td>\n",
              "    </tr>\n",
              "    <tr>\n",
              "      <th>9</th>\n",
              "      <td>5</td>\n",
              "      <td>HP</td>\n",
              "      <td>NaN</td>\n",
              "      <td>NaN</td>\n",
              "      <td>10.777778</td>\n",
              "      <td>56449</td>\n",
              "      <td>8.181818</td>\n",
              "      <td>NaN</td>\n",
              "      <td>8.0</td>\n",
              "    </tr>\n",
              "  </tbody>\n",
              "</table>\n",
              "</div>\n",
              "      <button class=\"colab-df-convert\" onclick=\"convertToInteractive('df-a048d5cd-2bf2-45bb-8a7d-5199296f4113')\"\n",
              "              title=\"Convert this dataframe to an interactive table.\"\n",
              "              style=\"display:none;\">\n",
              "        \n",
              "  <svg xmlns=\"http://www.w3.org/2000/svg\" height=\"24px\"viewBox=\"0 0 24 24\"\n",
              "       width=\"24px\">\n",
              "    <path d=\"M0 0h24v24H0V0z\" fill=\"none\"/>\n",
              "    <path d=\"M18.56 5.44l.94 2.06.94-2.06 2.06-.94-2.06-.94-.94-2.06-.94 2.06-2.06.94zm-11 1L8.5 8.5l.94-2.06 2.06-.94-2.06-.94L8.5 2.5l-.94 2.06-2.06.94zm10 10l.94 2.06.94-2.06 2.06-.94-2.06-.94-.94-2.06-.94 2.06-2.06.94z\"/><path d=\"M17.41 7.96l-1.37-1.37c-.4-.4-.92-.59-1.43-.59-.52 0-1.04.2-1.43.59L10.3 9.45l-7.72 7.72c-.78.78-.78 2.05 0 2.83L4 21.41c.39.39.9.59 1.41.59.51 0 1.02-.2 1.41-.59l7.78-7.78 2.81-2.81c.8-.78.8-2.07 0-2.86zM5.41 20L4 18.59l7.72-7.72 1.47 1.35L5.41 20z\"/>\n",
              "  </svg>\n",
              "      </button>\n",
              "      \n",
              "  <style>\n",
              "    .colab-df-container {\n",
              "      display:flex;\n",
              "      flex-wrap:wrap;\n",
              "      gap: 12px;\n",
              "    }\n",
              "\n",
              "    .colab-df-convert {\n",
              "      background-color: #E8F0FE;\n",
              "      border: none;\n",
              "      border-radius: 50%;\n",
              "      cursor: pointer;\n",
              "      display: none;\n",
              "      fill: #1967D2;\n",
              "      height: 32px;\n",
              "      padding: 0 0 0 0;\n",
              "      width: 32px;\n",
              "    }\n",
              "\n",
              "    .colab-df-convert:hover {\n",
              "      background-color: #E2EBFA;\n",
              "      box-shadow: 0px 1px 2px rgba(60, 64, 67, 0.3), 0px 1px 3px 1px rgba(60, 64, 67, 0.15);\n",
              "      fill: #174EA6;\n",
              "    }\n",
              "\n",
              "    [theme=dark] .colab-df-convert {\n",
              "      background-color: #3B4455;\n",
              "      fill: #D2E3FC;\n",
              "    }\n",
              "\n",
              "    [theme=dark] .colab-df-convert:hover {\n",
              "      background-color: #434B5C;\n",
              "      box-shadow: 0px 1px 3px 1px rgba(0, 0, 0, 0.15);\n",
              "      filter: drop-shadow(0px 1px 2px rgba(0, 0, 0, 0.3));\n",
              "      fill: #FFFFFF;\n",
              "    }\n",
              "  </style>\n",
              "\n",
              "      <script>\n",
              "        const buttonEl =\n",
              "          document.querySelector('#df-a048d5cd-2bf2-45bb-8a7d-5199296f4113 button.colab-df-convert');\n",
              "        buttonEl.style.display =\n",
              "          google.colab.kernel.accessAllowed ? 'block' : 'none';\n",
              "\n",
              "        async function convertToInteractive(key) {\n",
              "          const element = document.querySelector('#df-a048d5cd-2bf2-45bb-8a7d-5199296f4113');\n",
              "          const dataTable =\n",
              "            await google.colab.kernel.invokeFunction('convertToInteractive',\n",
              "                                                     [key], {});\n",
              "          if (!dataTable) return;\n",
              "\n",
              "          const docLinkHtml = 'Like what you see? Visit the ' +\n",
              "            '<a target=\"_blank\" href=https://colab.research.google.com/notebooks/data_table.ipynb>data table notebook</a>'\n",
              "            + ' to learn more about interactive tables.';\n",
              "          element.innerHTML = '';\n",
              "          dataTable['output_type'] = 'display_data';\n",
              "          await google.colab.output.renderOutput(dataTable, element);\n",
              "          const docLink = document.createElement('div');\n",
              "          docLink.innerHTML = docLinkHtml;\n",
              "          element.appendChild(docLink);\n",
              "        }\n",
              "      </script>\n",
              "    </div>\n",
              "  </div>\n",
              "  "
            ]
          },
          "metadata": {},
          "execution_count": 76
        }
      ]
    },
    {
      "cell_type": "markdown",
      "source": [
        "### Нормализация числовых признаков"
      ],
      "metadata": {
        "id": "ulA9kz0dHind"
      }
    },
    {
      "cell_type": "code",
      "source": [
        "#нормализуем признак из предыдущего датасета\n",
        "skip.hist(figsize=(20,20))\n",
        "plt.show()"
      ],
      "metadata": {
        "colab": {
          "base_uri": "https://localhost:8080/",
          "height": 1000
        },
        "id": "1o1Nf1GFHsTu",
        "outputId": "72079342-8202-4c88-855f-a00b4a6798c2"
      },
      "execution_count": 77,
      "outputs": [
        {
          "output_type": "display_data",
          "data": {
            "text/plain": [
              "<Figure size 1440x1440 with 4 Axes>"
            ],
            "image/png": "[encoded data removed]"
          },
          "metadata": {}
        }
      ]
    },
    {
      "cell_type": "code",
      "source": [
        "stats.probplot(skip['Rating'], dist=\"norm\", plot = plt)\n",
        "plt.show()"
      ],
      "metadata": {
        "colab": {
          "base_uri": "https://localhost:8080/",
          "height": 301
        },
        "id": "FaXwiixdH7OF",
        "outputId": "3e17203f-8601-4500-96f3-4fdfdac9f963"
      },
      "execution_count": 78,
      "outputs": [
        {
          "output_type": "display_data",
          "data": {
            "text/plain": [
              "<Figure size 432x288 with 1 Axes>"
            ],
            "image/png": "[encoded data removed]"
          },
          "metadata": {}
        }
      ]
    },
    {
      "cell_type": "code",
      "source": [
        "#применяем преобразование Бокса-Кокса.\n",
        "skip['Rating_bxcx'], param = stats.boxcox(skip['Rating']) \n",
        "print('Оптимальное значение λ = {}'.format(param))\n",
        "\n",
        "stats.probplot(skip['Rating'], dist=\"norm\", plot = plt)\n",
        "plt.show()"
      ],
      "metadata": {
        "colab": {
          "base_uri": "https://localhost:8080/",
          "height": 318
        },
        "id": "8P9AnI4KIDUa",
        "outputId": "2a8dee4d-5bfd-4bc6-de44-1f98a57a921c"
      },
      "execution_count": 79,
      "outputs": [
        {
          "output_type": "stream",
          "name": "stdout",
          "text": [
            "Оптимальное значение λ = 6.19020443917887\n"
          ]
        },
        {
          "output_type": "display_data",
          "data": {
            "text/plain": [
              "<Figure size 432x288 with 1 Axes>"
            ],
            "image/png": "[encoded data removed]"
          },
          "metadata": {}
        }
      ]
    },
    {
      "cell_type": "markdown",
      "source": [
        "Результат, в целом, плохой, но учитывая степень отклонения исходного распределения от нормальности, ситуация улучшилась."
      ],
      "metadata": {
        "id": "QRGS_r9dIZR5"
      }
    },
    {
      "cell_type": "code",
      "source": [
        "stats.probplot(skip['Price'], dist=\"norm\", plot = plt)\n",
        "plt.show()"
      ],
      "metadata": {
        "colab": {
          "base_uri": "https://localhost:8080/",
          "height": 301
        },
        "id": "IjCNn7T4IYs8",
        "outputId": "b62d973e-df80-4c0c-dd6d-f1e5e32c9150"
      },
      "execution_count": 80,
      "outputs": [
        {
          "output_type": "display_data",
          "data": {
            "text/plain": [
              "<Figure size 432x288 with 1 Axes>"
            ],
            "image/png": "[encoded data removed]"
          },
          "metadata": {}
        }
      ]
    },
    {
      "cell_type": "code",
      "source": [
        "# применяем логарифмическое преобразование\n",
        "#получаем достаточно неплохой результат\n",
        "skip['Price_log'] = np.log(skip['Price'])\n",
        "\n",
        "stats.probplot(skip['Price_log'], dist=\"norm\", plot = plt)\n",
        "plt.show()"
      ],
      "metadata": {
        "colab": {
          "base_uri": "https://localhost:8080/",
          "height": 301
        },
        "id": "oDAlrv_0Ilo_",
        "outputId": "4f1a1aef-403d-48e9-b723-af430a03fb45"
      },
      "execution_count": 81,
      "outputs": [
        {
          "output_type": "display_data",
          "data": {
            "text/plain": [
              "<Figure size 432x288 with 1 Axes>"
            ],
            "image/png": "[encoded data removed]"
          },
          "metadata": {}
        }
      ]
    }
  ]
}