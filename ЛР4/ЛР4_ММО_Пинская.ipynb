{
  "nbformat": 4,
  "nbformat_minor": 0,
  "metadata": {
    "colab": {
      "name": "ЛР4_ММО_Пинская.ipynb",
      "provenance": [],
      "collapsed_sections": [],
      "include_colab_link": true
    },
    "kernelspec": {
      "name": "python3",
      "display_name": "Python 3"
    },
    "language_info": {
      "name": "python"
    }
  },
  "cells": [
    {
      "cell_type": "markdown",
      "metadata": {
        "id": "view-in-github",
        "colab_type": "text"
      },
      "source": [
        "<a href=\"https://colab.research.google.com/github/PinskayaNika/MMO_Pinskaya/blob/main/%D0%9B%D0%A04/%D0%9B%D0%A04_%D0%9C%D0%9C%D0%9E_%D0%9F%D0%B8%D0%BD%D1%81%D0%BA%D0%B0%D1%8F.ipynb\" target=\"_parent\"><img src=\"https://colab.research.google.com/assets/colab-badge.svg\" alt=\"Open In Colab\"/></a>"
      ]
    },
    {
      "cell_type": "markdown",
      "source": [
        "# Лабораторная работа №4\n",
        "## \"**Создание рекомендательной модели**\"\n",
        "\n",
        "Выполнила: Пинская Н.М.  \n",
        "Группа: ИУ5-21М  \n",
        "\n",
        "  \n",
        "  \n",
        "**Цель лабораторной работы:** изучение продвинутых способов предварительной обработки данных для дальнейшего формирования моделей.  \n",
        "\n",
        "  \n",
        "**Задание:**  \n",
        "\n",
        "1.   Выбрать произвольный набор данных (датасет), предназначенный для построения рекомендательных моделей.\n",
        "2.   Опираясь на материалы лекции, сформировать рекомендации для одного пользователя (объекта) двумя произвольными способами.\n",
        "3.   Сравнить полученные рекомендации (если это возможно, то с применением метрик)."
      ],
      "metadata": {
        "id": "veVfE7vzPZIp"
      }
    },
    {
      "cell_type": "markdown",
      "source": [
        "## Масштабирование признаков"
      ],
      "metadata": {
        "id": "KIXcHow1Uynz"
      }
    },
    {
      "cell_type": "code",
      "execution_count": 1,
      "metadata": {
        "id": "T2DPTOWKPKZL"
      },
      "outputs": [],
      "source": [
        "#импортируем библиотеки\n",
        "import numpy as np\n",
        "import pandas as pd\n",
        "from typing import Dict, Tuple\n",
        "from scipy import stats\n",
        "from IPython.display import Image\n",
        "from IPython.display import Image\n",
        "from sklearn.feature_extraction.text import CountVectorizer, TfidfVectorizer\n",
        "from sklearn.datasets import load_iris, load_boston\n",
        "from sklearn.model_selection import cross_val_score\n",
        "from sklearn.model_selection import train_test_split\n",
        "from sklearn.neighbors import KNeighborsRegressor, KNeighborsClassifier\n",
        "from sklearn.model_selection import GridSearchCV, RandomizedSearchCV\n",
        "from sklearn.metrics import accuracy_score, balanced_accuracy_score\n",
        "from sklearn.metrics import precision_score, recall_score, f1_score, classification_report\n",
        "from sklearn.metrics import confusion_matrix\n",
        "from sklearn.tree import DecisionTreeClassifier, DecisionTreeRegressor, export_graphviz\n",
        "from sklearn.ensemble import RandomForestClassifier, RandomForestRegressor\n",
        "from sklearn.ensemble import ExtraTreesClassifier, ExtraTreesRegressor\n",
        "from sklearn.ensemble import GradientBoostingClassifier, GradientBoostingRegressor\n",
        "from sklearn.ensemble import BaggingClassifier\n",
        "from sklearn.ensemble import AdaBoostClassifier\n",
        "from sklearn.metrics import mean_absolute_error, mean_squared_error, mean_squared_log_error, median_absolute_error, r2_score \n",
        "from sklearn.metrics import roc_curve, roc_auc_score\n",
        "from sklearn.metrics.pairwise import cosine_similarity, euclidean_distances, manhattan_distances\n",
        "# from surprise import SVD, Dataset, Reader\n",
        "# from surprise.model_selection import PredefinedKFold\n",
        "from collections import defaultdict\n",
        "# from surprise.accuracy import rmse\n",
        "import seaborn as sns\n",
        "import matplotlib.pyplot as plt\n",
        "from matplotlib_venn import venn2\n",
        "%matplotlib inline \n",
        "sns.set(style=\"ticks\")"
      ]
    },
    {
      "cell_type": "code",
      "source": [
        "# Подключение к gogle диску\n",
        "from google.colab import drive\n",
        "drive.mount('/content/drive')"
      ],
      "metadata": {
        "colab": {
          "base_uri": "https://localhost:8080/",
          "height": 0
        },
        "id": "zabhVXV0mMgE",
        "outputId": "624ec78c-60a3-4b88-cff7-72a235a1dc9e"
      },
      "execution_count": 3,
      "outputs": [
        {
          "output_type": "stream",
          "name": "stdout",
          "text": [
            "Mounted at /content/drive\n"
          ]
        }
      ]
    },
    {
      "cell_type": "code",
      "source": [
        "# Вывод содержимого папки на диске\n",
        "import os\n",
        "data_root = '/content/drive/MyDrive/MMO'\n",
        "print(os.listdir(data_root))"
      ],
      "metadata": {
        "colab": {
          "base_uri": "https://localhost:8080/",
          "height": 0
        },
        "id": "i9XWl2VfmNJS",
        "outputId": "becc2790-7423-4626-c3f5-62d04f15e368"
      },
      "execution_count": 4,
      "outputs": [
        {
          "output_type": "stream",
          "name": "stdout",
          "text": [
            "['pulitzer-circulation-data.csv', 'mmsa-icu-beds2.csv', 'movies.csv.zip', 'movies2.csv.zip', 'movies1.csv.zip', 'avengers.csv.zip', 'comma-survey.csv.zip', 'Tweets.csv.zip', 'BX-CSV-DUMP', 'rekko_challenge_rekko_challenge_2019', 'books.csv', 'laptop.csv', 'T1.csv', 'anime.csv']\n"
          ]
        }
      ]
    },
    {
      "cell_type": "markdown",
      "source": [
        "## Чтение данных"
      ],
      "metadata": {
        "id": "pBu2xUA5X38M"
      }
    },
    {
      "cell_type": "code",
      "source": [
        "df_md_all = pd.read_csv('/content/drive/MyDrive/MMO/rekko_challenge_rekko_challenge_2019/bookmarks.csv')"
      ],
      "metadata": {
        "id": "vuSKP64OX9eS"
      },
      "execution_count": 6,
      "outputs": []
    },
    {
      "cell_type": "code",
      "source": [
        "df_md_all.head()"
      ],
      "metadata": {
        "id": "S893cnAYX-yx",
        "colab": {
          "base_uri": "https://localhost:8080/",
          "height": 206
        },
        "outputId": "6b4476ef-8225-40b2-b2b6-e82dc84ae03b"
      },
      "execution_count": 7,
      "outputs": [
        {
          "output_type": "execute_result",
          "data": {
            "text/plain": [
              "   user_uid  element_uid            ts\n",
              "0    301135         7185  4.430516e+07\n",
              "1    301135         4083  4.430516e+07\n",
              "2    301135        10158  4.430516e+07\n",
              "3    301135         2693  4.430516e+07\n",
              "4    301135         2181  4.430515e+07"
            ],
            "text/html": [
              "\n",
              "  <div id=\"df-05f5ccf1-c8a8-4de4-b37a-18d8107f43be\">\n",
              "    <div class=\"colab-df-container\">\n",
              "      <div>\n",
              "<style scoped>\n",
              "    .dataframe tbody tr th:only-of-type {\n",
              "        vertical-align: middle;\n",
              "    }\n",
              "\n",
              "    .dataframe tbody tr th {\n",
              "        vertical-align: top;\n",
              "    }\n",
              "\n",
              "    .dataframe thead th {\n",
              "        text-align: right;\n",
              "    }\n",
              "</style>\n",
              "<table border=\"1\" class=\"dataframe\">\n",
              "  <thead>\n",
              "    <tr style=\"text-align: right;\">\n",
              "      <th></th>\n",
              "      <th>user_uid</th>\n",
              "      <th>element_uid</th>\n",
              "      <th>ts</th>\n",
              "    </tr>\n",
              "  </thead>\n",
              "  <tbody>\n",
              "    <tr>\n",
              "      <th>0</th>\n",
              "      <td>301135</td>\n",
              "      <td>7185</td>\n",
              "      <td>4.430516e+07</td>\n",
              "    </tr>\n",
              "    <tr>\n",
              "      <th>1</th>\n",
              "      <td>301135</td>\n",
              "      <td>4083</td>\n",
              "      <td>4.430516e+07</td>\n",
              "    </tr>\n",
              "    <tr>\n",
              "      <th>2</th>\n",
              "      <td>301135</td>\n",
              "      <td>10158</td>\n",
              "      <td>4.430516e+07</td>\n",
              "    </tr>\n",
              "    <tr>\n",
              "      <th>3</th>\n",
              "      <td>301135</td>\n",
              "      <td>2693</td>\n",
              "      <td>4.430516e+07</td>\n",
              "    </tr>\n",
              "    <tr>\n",
              "      <th>4</th>\n",
              "      <td>301135</td>\n",
              "      <td>2181</td>\n",
              "      <td>4.430515e+07</td>\n",
              "    </tr>\n",
              "  </tbody>\n",
              "</table>\n",
              "</div>\n",
              "      <button class=\"colab-df-convert\" onclick=\"convertToInteractive('df-05f5ccf1-c8a8-4de4-b37a-18d8107f43be')\"\n",
              "              title=\"Convert this dataframe to an interactive table.\"\n",
              "              style=\"display:none;\">\n",
              "        \n",
              "  <svg xmlns=\"http://www.w3.org/2000/svg\" height=\"24px\"viewBox=\"0 0 24 24\"\n",
              "       width=\"24px\">\n",
              "    <path d=\"M0 0h24v24H0V0z\" fill=\"none\"/>\n",
              "    <path d=\"M18.56 5.44l.94 2.06.94-2.06 2.06-.94-2.06-.94-.94-2.06-.94 2.06-2.06.94zm-11 1L8.5 8.5l.94-2.06 2.06-.94-2.06-.94L8.5 2.5l-.94 2.06-2.06.94zm10 10l.94 2.06.94-2.06 2.06-.94-2.06-.94-.94-2.06-.94 2.06-2.06.94z\"/><path d=\"M17.41 7.96l-1.37-1.37c-.4-.4-.92-.59-1.43-.59-.52 0-1.04.2-1.43.59L10.3 9.45l-7.72 7.72c-.78.78-.78 2.05 0 2.83L4 21.41c.39.39.9.59 1.41.59.51 0 1.02-.2 1.41-.59l7.78-7.78 2.81-2.81c.8-.78.8-2.07 0-2.86zM5.41 20L4 18.59l7.72-7.72 1.47 1.35L5.41 20z\"/>\n",
              "  </svg>\n",
              "      </button>\n",
              "      \n",
              "  <style>\n",
              "    .colab-df-container {\n",
              "      display:flex;\n",
              "      flex-wrap:wrap;\n",
              "      gap: 12px;\n",
              "    }\n",
              "\n",
              "    .colab-df-convert {\n",
              "      background-color: #E8F0FE;\n",
              "      border: none;\n",
              "      border-radius: 50%;\n",
              "      cursor: pointer;\n",
              "      display: none;\n",
              "      fill: #1967D2;\n",
              "      height: 32px;\n",
              "      padding: 0 0 0 0;\n",
              "      width: 32px;\n",
              "    }\n",
              "\n",
              "    .colab-df-convert:hover {\n",
              "      background-color: #E2EBFA;\n",
              "      box-shadow: 0px 1px 2px rgba(60, 64, 67, 0.3), 0px 1px 3px 1px rgba(60, 64, 67, 0.15);\n",
              "      fill: #174EA6;\n",
              "    }\n",
              "\n",
              "    [theme=dark] .colab-df-convert {\n",
              "      background-color: #3B4455;\n",
              "      fill: #D2E3FC;\n",
              "    }\n",
              "\n",
              "    [theme=dark] .colab-df-convert:hover {\n",
              "      background-color: #434B5C;\n",
              "      box-shadow: 0px 1px 3px 1px rgba(0, 0, 0, 0.15);\n",
              "      filter: drop-shadow(0px 1px 2px rgba(0, 0, 0, 0.3));\n",
              "      fill: #FFFFFF;\n",
              "    }\n",
              "  </style>\n",
              "\n",
              "      <script>\n",
              "        const buttonEl =\n",
              "          document.querySelector('#df-05f5ccf1-c8a8-4de4-b37a-18d8107f43be button.colab-df-convert');\n",
              "        buttonEl.style.display =\n",
              "          google.colab.kernel.accessAllowed ? 'block' : 'none';\n",
              "\n",
              "        async function convertToInteractive(key) {\n",
              "          const element = document.querySelector('#df-05f5ccf1-c8a8-4de4-b37a-18d8107f43be');\n",
              "          const dataTable =\n",
              "            await google.colab.kernel.invokeFunction('convertToInteractive',\n",
              "                                                     [key], {});\n",
              "          if (!dataTable) return;\n",
              "\n",
              "          const docLinkHtml = 'Like what you see? Visit the ' +\n",
              "            '<a target=\"_blank\" href=https://colab.research.google.com/notebooks/data_table.ipynb>data table notebook</a>'\n",
              "            + ' to learn more about interactive tables.';\n",
              "          element.innerHTML = '';\n",
              "          dataTable['output_type'] = 'display_data';\n",
              "          await google.colab.output.renderOutput(dataTable, element);\n",
              "          const docLink = document.createElement('div');\n",
              "          docLink.innerHTML = docLinkHtml;\n",
              "          element.appendChild(docLink);\n",
              "        }\n",
              "      </script>\n",
              "    </div>\n",
              "  </div>\n",
              "  "
            ]
          },
          "metadata": {},
          "execution_count": 7
        }
      ]
    },
    {
      "cell_type": "code",
      "source": [
        "df_md_all.shape"
      ],
      "metadata": {
        "id": "P6EdLnqWYCWN",
        "colab": {
          "base_uri": "https://localhost:8080/",
          "height": 0
        },
        "outputId": "6cdba8ac-8ca4-40d0-82bb-31775835d61f"
      },
      "execution_count": 8,
      "outputs": [
        {
          "output_type": "execute_result",
          "data": {
            "text/plain": [
              "(948216, 3)"
            ]
          },
          "metadata": {},
          "execution_count": 8
        }
      ]
    },
    {
      "cell_type": "code",
      "source": [
        "df_rt = pd.read_csv('/content/drive/MyDrive/MMO/rekko_challenge_rekko_challenge_2019/ratings.csv')"
      ],
      "metadata": {
        "id": "d8raPKHFYDCa"
      },
      "execution_count": 9,
      "outputs": []
    },
    {
      "cell_type": "code",
      "source": [
        "df_rt.head()"
      ],
      "metadata": {
        "id": "kgc-ntvVYEbe",
        "colab": {
          "base_uri": "https://localhost:8080/",
          "height": 206
        },
        "outputId": "abd3142c-ffb1-4b3a-f515-78ed91cec595"
      },
      "execution_count": 10,
      "outputs": [
        {
          "output_type": "execute_result",
          "data": {
            "text/plain": [
              "   user_uid  element_uid  rating            ts\n",
              "0    571252         1364      10  4.430517e+07\n",
              "1     63140         3037      10  4.430514e+07\n",
              "2    443817         4363       8  4.430514e+07\n",
              "3    359870         1364      10  4.430506e+07\n",
              "4    359870         3578       9  4.430506e+07"
            ],
            "text/html": [
              "\n",
              "  <div id=\"df-23b04533-cfd3-4ace-82b4-142cab994d8c\">\n",
              "    <div class=\"colab-df-container\">\n",
              "      <div>\n",
              "<style scoped>\n",
              "    .dataframe tbody tr th:only-of-type {\n",
              "        vertical-align: middle;\n",
              "    }\n",
              "\n",
              "    .dataframe tbody tr th {\n",
              "        vertical-align: top;\n",
              "    }\n",
              "\n",
              "    .dataframe thead th {\n",
              "        text-align: right;\n",
              "    }\n",
              "</style>\n",
              "<table border=\"1\" class=\"dataframe\">\n",
              "  <thead>\n",
              "    <tr style=\"text-align: right;\">\n",
              "      <th></th>\n",
              "      <th>user_uid</th>\n",
              "      <th>element_uid</th>\n",
              "      <th>rating</th>\n",
              "      <th>ts</th>\n",
              "    </tr>\n",
              "  </thead>\n",
              "  <tbody>\n",
              "    <tr>\n",
              "      <th>0</th>\n",
              "      <td>571252</td>\n",
              "      <td>1364</td>\n",
              "      <td>10</td>\n",
              "      <td>4.430517e+07</td>\n",
              "    </tr>\n",
              "    <tr>\n",
              "      <th>1</th>\n",
              "      <td>63140</td>\n",
              "      <td>3037</td>\n",
              "      <td>10</td>\n",
              "      <td>4.430514e+07</td>\n",
              "    </tr>\n",
              "    <tr>\n",
              "      <th>2</th>\n",
              "      <td>443817</td>\n",
              "      <td>4363</td>\n",
              "      <td>8</td>\n",
              "      <td>4.430514e+07</td>\n",
              "    </tr>\n",
              "    <tr>\n",
              "      <th>3</th>\n",
              "      <td>359870</td>\n",
              "      <td>1364</td>\n",
              "      <td>10</td>\n",
              "      <td>4.430506e+07</td>\n",
              "    </tr>\n",
              "    <tr>\n",
              "      <th>4</th>\n",
              "      <td>359870</td>\n",
              "      <td>3578</td>\n",
              "      <td>9</td>\n",
              "      <td>4.430506e+07</td>\n",
              "    </tr>\n",
              "  </tbody>\n",
              "</table>\n",
              "</div>\n",
              "      <button class=\"colab-df-convert\" onclick=\"convertToInteractive('df-23b04533-cfd3-4ace-82b4-142cab994d8c')\"\n",
              "              title=\"Convert this dataframe to an interactive table.\"\n",
              "              style=\"display:none;\">\n",
              "        \n",
              "  <svg xmlns=\"http://www.w3.org/2000/svg\" height=\"24px\"viewBox=\"0 0 24 24\"\n",
              "       width=\"24px\">\n",
              "    <path d=\"M0 0h24v24H0V0z\" fill=\"none\"/>\n",
              "    <path d=\"M18.56 5.44l.94 2.06.94-2.06 2.06-.94-2.06-.94-.94-2.06-.94 2.06-2.06.94zm-11 1L8.5 8.5l.94-2.06 2.06-.94-2.06-.94L8.5 2.5l-.94 2.06-2.06.94zm10 10l.94 2.06.94-2.06 2.06-.94-2.06-.94-.94-2.06-.94 2.06-2.06.94z\"/><path d=\"M17.41 7.96l-1.37-1.37c-.4-.4-.92-.59-1.43-.59-.52 0-1.04.2-1.43.59L10.3 9.45l-7.72 7.72c-.78.78-.78 2.05 0 2.83L4 21.41c.39.39.9.59 1.41.59.51 0 1.02-.2 1.41-.59l7.78-7.78 2.81-2.81c.8-.78.8-2.07 0-2.86zM5.41 20L4 18.59l7.72-7.72 1.47 1.35L5.41 20z\"/>\n",
              "  </svg>\n",
              "      </button>\n",
              "      \n",
              "  <style>\n",
              "    .colab-df-container {\n",
              "      display:flex;\n",
              "      flex-wrap:wrap;\n",
              "      gap: 12px;\n",
              "    }\n",
              "\n",
              "    .colab-df-convert {\n",
              "      background-color: #E8F0FE;\n",
              "      border: none;\n",
              "      border-radius: 50%;\n",
              "      cursor: pointer;\n",
              "      display: none;\n",
              "      fill: #1967D2;\n",
              "      height: 32px;\n",
              "      padding: 0 0 0 0;\n",
              "      width: 32px;\n",
              "    }\n",
              "\n",
              "    .colab-df-convert:hover {\n",
              "      background-color: #E2EBFA;\n",
              "      box-shadow: 0px 1px 2px rgba(60, 64, 67, 0.3), 0px 1px 3px 1px rgba(60, 64, 67, 0.15);\n",
              "      fill: #174EA6;\n",
              "    }\n",
              "\n",
              "    [theme=dark] .colab-df-convert {\n",
              "      background-color: #3B4455;\n",
              "      fill: #D2E3FC;\n",
              "    }\n",
              "\n",
              "    [theme=dark] .colab-df-convert:hover {\n",
              "      background-color: #434B5C;\n",
              "      box-shadow: 0px 1px 3px 1px rgba(0, 0, 0, 0.15);\n",
              "      filter: drop-shadow(0px 1px 2px rgba(0, 0, 0, 0.3));\n",
              "      fill: #FFFFFF;\n",
              "    }\n",
              "  </style>\n",
              "\n",
              "      <script>\n",
              "        const buttonEl =\n",
              "          document.querySelector('#df-23b04533-cfd3-4ace-82b4-142cab994d8c button.colab-df-convert');\n",
              "        buttonEl.style.display =\n",
              "          google.colab.kernel.accessAllowed ? 'block' : 'none';\n",
              "\n",
              "        async function convertToInteractive(key) {\n",
              "          const element = document.querySelector('#df-23b04533-cfd3-4ace-82b4-142cab994d8c');\n",
              "          const dataTable =\n",
              "            await google.colab.kernel.invokeFunction('convertToInteractive',\n",
              "                                                     [key], {});\n",
              "          if (!dataTable) return;\n",
              "\n",
              "          const docLinkHtml = 'Like what you see? Visit the ' +\n",
              "            '<a target=\"_blank\" href=https://colab.research.google.com/notebooks/data_table.ipynb>data table notebook</a>'\n",
              "            + ' to learn more about interactive tables.';\n",
              "          element.innerHTML = '';\n",
              "          dataTable['output_type'] = 'display_data';\n",
              "          await google.colab.output.renderOutput(dataTable, element);\n",
              "          const docLink = document.createElement('div');\n",
              "          docLink.innerHTML = docLinkHtml;\n",
              "          element.appendChild(docLink);\n",
              "        }\n",
              "      </script>\n",
              "    </div>\n",
              "  </div>\n",
              "  "
            ]
          },
          "metadata": {},
          "execution_count": 10
        }
      ]
    },
    {
      "cell_type": "code",
      "source": [
        "df_rt.shape"
      ],
      "metadata": {
        "id": "WYGcjSELYG2F",
        "colab": {
          "base_uri": "https://localhost:8080/",
          "height": 0
        },
        "outputId": "84e69f6c-35b0-4469-a82e-6b6a3913e3c0"
      },
      "execution_count": 11,
      "outputs": [
        {
          "output_type": "execute_result",
          "data": {
            "text/plain": [
              "(438790, 4)"
            ]
          },
          "metadata": {},
          "execution_count": 11
        }
      ]
    },
    {
      "cell_type": "code",
      "source": [
        "df_book = pd.read_csv('/content/drive/MyDrive/MMO/anime.csv')"
      ],
      "metadata": {
        "id": "9-FQoaRVntV0"
      },
      "execution_count": 5,
      "outputs": []
    },
    {
      "cell_type": "code",
      "source": [
        "df_book.head()"
      ],
      "metadata": {
        "colab": {
          "base_uri": "https://localhost:8080/",
          "height": 206
        },
        "id": "ZQ4GrppjoB4S",
        "outputId": "2eb126bb-9ed5-4b7c-a839-dbeb3069be31"
      },
      "execution_count": 6,
      "outputs": [
        {
          "output_type": "execute_result",
          "data": {
            "text/plain": [
              "   anime_id                              name  \\\n",
              "0     32281                    Kimi no Na wa.   \n",
              "1      5114  Fullmetal Alchemist: Brotherhood   \n",
              "2     28977                          Gintama°   \n",
              "3      9253                       Steins;Gate   \n",
              "4      9969                     Gintama&#039;   \n",
              "\n",
              "                                               genre   type episodes  rating  \\\n",
              "0               Drama, Romance, School, Supernatural  Movie        1    9.37   \n",
              "1  Action, Adventure, Drama, Fantasy, Magic, Mili...     TV       64    9.26   \n",
              "2  Action, Comedy, Historical, Parody, Samurai, S...     TV       51    9.25   \n",
              "3                                   Sci-Fi, Thriller     TV       24    9.17   \n",
              "4  Action, Comedy, Historical, Parody, Samurai, S...     TV       51    9.16   \n",
              "\n",
              "   members  \n",
              "0   200630  \n",
              "1   793665  \n",
              "2   114262  \n",
              "3   673572  \n",
              "4   151266  "
            ],
            "text/html": [
              "\n",
              "  <div id=\"df-2cb94329-c52d-4386-ae66-3690c481304e\">\n",
              "    <div class=\"colab-df-container\">\n",
              "      <div>\n",
              "<style scoped>\n",
              "    .dataframe tbody tr th:only-of-type {\n",
              "        vertical-align: middle;\n",
              "    }\n",
              "\n",
              "    .dataframe tbody tr th {\n",
              "        vertical-align: top;\n",
              "    }\n",
              "\n",
              "    .dataframe thead th {\n",
              "        text-align: right;\n",
              "    }\n",
              "</style>\n",
              "<table border=\"1\" class=\"dataframe\">\n",
              "  <thead>\n",
              "    <tr style=\"text-align: right;\">\n",
              "      <th></th>\n",
              "      <th>anime_id</th>\n",
              "      <th>name</th>\n",
              "      <th>genre</th>\n",
              "      <th>type</th>\n",
              "      <th>episodes</th>\n",
              "      <th>rating</th>\n",
              "      <th>members</th>\n",
              "    </tr>\n",
              "  </thead>\n",
              "  <tbody>\n",
              "    <tr>\n",
              "      <th>0</th>\n",
              "      <td>32281</td>\n",
              "      <td>Kimi no Na wa.</td>\n",
              "      <td>Drama, Romance, School, Supernatural</td>\n",
              "      <td>Movie</td>\n",
              "      <td>1</td>\n",
              "      <td>9.37</td>\n",
              "      <td>200630</td>\n",
              "    </tr>\n",
              "    <tr>\n",
              "      <th>1</th>\n",
              "      <td>5114</td>\n",
              "      <td>Fullmetal Alchemist: Brotherhood</td>\n",
              "      <td>Action, Adventure, Drama, Fantasy, Magic, Mili...</td>\n",
              "      <td>TV</td>\n",
              "      <td>64</td>\n",
              "      <td>9.26</td>\n",
              "      <td>793665</td>\n",
              "    </tr>\n",
              "    <tr>\n",
              "      <th>2</th>\n",
              "      <td>28977</td>\n",
              "      <td>Gintama°</td>\n",
              "      <td>Action, Comedy, Historical, Parody, Samurai, S...</td>\n",
              "      <td>TV</td>\n",
              "      <td>51</td>\n",
              "      <td>9.25</td>\n",
              "      <td>114262</td>\n",
              "    </tr>\n",
              "    <tr>\n",
              "      <th>3</th>\n",
              "      <td>9253</td>\n",
              "      <td>Steins;Gate</td>\n",
              "      <td>Sci-Fi, Thriller</td>\n",
              "      <td>TV</td>\n",
              "      <td>24</td>\n",
              "      <td>9.17</td>\n",
              "      <td>673572</td>\n",
              "    </tr>\n",
              "    <tr>\n",
              "      <th>4</th>\n",
              "      <td>9969</td>\n",
              "      <td>Gintama&amp;#039;</td>\n",
              "      <td>Action, Comedy, Historical, Parody, Samurai, S...</td>\n",
              "      <td>TV</td>\n",
              "      <td>51</td>\n",
              "      <td>9.16</td>\n",
              "      <td>151266</td>\n",
              "    </tr>\n",
              "  </tbody>\n",
              "</table>\n",
              "</div>\n",
              "      <button class=\"colab-df-convert\" onclick=\"convertToInteractive('df-2cb94329-c52d-4386-ae66-3690c481304e')\"\n",
              "              title=\"Convert this dataframe to an interactive table.\"\n",
              "              style=\"display:none;\">\n",
              "        \n",
              "  <svg xmlns=\"http://www.w3.org/2000/svg\" height=\"24px\"viewBox=\"0 0 24 24\"\n",
              "       width=\"24px\">\n",
              "    <path d=\"M0 0h24v24H0V0z\" fill=\"none\"/>\n",
              "    <path d=\"M18.56 5.44l.94 2.06.94-2.06 2.06-.94-2.06-.94-.94-2.06-.94 2.06-2.06.94zm-11 1L8.5 8.5l.94-2.06 2.06-.94-2.06-.94L8.5 2.5l-.94 2.06-2.06.94zm10 10l.94 2.06.94-2.06 2.06-.94-2.06-.94-.94-2.06-.94 2.06-2.06.94z\"/><path d=\"M17.41 7.96l-1.37-1.37c-.4-.4-.92-.59-1.43-.59-.52 0-1.04.2-1.43.59L10.3 9.45l-7.72 7.72c-.78.78-.78 2.05 0 2.83L4 21.41c.39.39.9.59 1.41.59.51 0 1.02-.2 1.41-.59l7.78-7.78 2.81-2.81c.8-.78.8-2.07 0-2.86zM5.41 20L4 18.59l7.72-7.72 1.47 1.35L5.41 20z\"/>\n",
              "  </svg>\n",
              "      </button>\n",
              "      \n",
              "  <style>\n",
              "    .colab-df-container {\n",
              "      display:flex;\n",
              "      flex-wrap:wrap;\n",
              "      gap: 12px;\n",
              "    }\n",
              "\n",
              "    .colab-df-convert {\n",
              "      background-color: #E8F0FE;\n",
              "      border: none;\n",
              "      border-radius: 50%;\n",
              "      cursor: pointer;\n",
              "      display: none;\n",
              "      fill: #1967D2;\n",
              "      height: 32px;\n",
              "      padding: 0 0 0 0;\n",
              "      width: 32px;\n",
              "    }\n",
              "\n",
              "    .colab-df-convert:hover {\n",
              "      background-color: #E2EBFA;\n",
              "      box-shadow: 0px 1px 2px rgba(60, 64, 67, 0.3), 0px 1px 3px 1px rgba(60, 64, 67, 0.15);\n",
              "      fill: #174EA6;\n",
              "    }\n",
              "\n",
              "    [theme=dark] .colab-df-convert {\n",
              "      background-color: #3B4455;\n",
              "      fill: #D2E3FC;\n",
              "    }\n",
              "\n",
              "    [theme=dark] .colab-df-convert:hover {\n",
              "      background-color: #434B5C;\n",
              "      box-shadow: 0px 1px 3px 1px rgba(0, 0, 0, 0.15);\n",
              "      filter: drop-shadow(0px 1px 2px rgba(0, 0, 0, 0.3));\n",
              "      fill: #FFFFFF;\n",
              "    }\n",
              "  </style>\n",
              "\n",
              "      <script>\n",
              "        const buttonEl =\n",
              "          document.querySelector('#df-2cb94329-c52d-4386-ae66-3690c481304e button.colab-df-convert');\n",
              "        buttonEl.style.display =\n",
              "          google.colab.kernel.accessAllowed ? 'block' : 'none';\n",
              "\n",
              "        async function convertToInteractive(key) {\n",
              "          const element = document.querySelector('#df-2cb94329-c52d-4386-ae66-3690c481304e');\n",
              "          const dataTable =\n",
              "            await google.colab.kernel.invokeFunction('convertToInteractive',\n",
              "                                                     [key], {});\n",
              "          if (!dataTable) return;\n",
              "\n",
              "          const docLinkHtml = 'Like what you see? Visit the ' +\n",
              "            '<a target=\"_blank\" href=https://colab.research.google.com/notebooks/data_table.ipynb>data table notebook</a>'\n",
              "            + ' to learn more about interactive tables.';\n",
              "          element.innerHTML = '';\n",
              "          dataTable['output_type'] = 'display_data';\n",
              "          await google.colab.output.renderOutput(dataTable, element);\n",
              "          const docLink = document.createElement('div');\n",
              "          docLink.innerHTML = docLinkHtml;\n",
              "          element.appendChild(docLink);\n",
              "        }\n",
              "      </script>\n",
              "    </div>\n",
              "  </div>\n",
              "  "
            ]
          },
          "metadata": {},
          "execution_count": 6
        }
      ]
    },
    {
      "cell_type": "code",
      "source": [
        "df_book.shape"
      ],
      "metadata": {
        "colab": {
          "base_uri": "https://localhost:8080/",
          "height": 0
        },
        "id": "CP2BHPpFoGHI",
        "outputId": "a78f6256-b6dd-4f45-e0e5-47aa920675bf"
      },
      "execution_count": 7,
      "outputs": [
        {
          "output_type": "execute_result",
          "data": {
            "text/plain": [
              "(12294, 7)"
            ]
          },
          "metadata": {},
          "execution_count": 7
        }
      ]
    },
    {
      "cell_type": "markdown",
      "source": [
        "Убедимся, что в нашем рабочем датафрейме не будет записей с отсутсвующим жанром:"
      ],
      "metadata": {
        "id": "aYTB-8e928jy"
      }
    },
    {
      "cell_type": "code",
      "source": [
        "df_book_with_genre = df_book[df_book['genre'].notnull()]\n",
        "df_book_with_genre = df_book_with_genre[~df_book_with_genre['genre'].str.isspace()]\n"
      ],
      "metadata": {
        "id": "5KxuG3FrYNGJ"
      },
      "execution_count": 8,
      "outputs": []
    },
    {
      "cell_type": "code",
      "source": [
        "name = df_book_with_genre['name'].values\n",
        "name[0:6]"
      ],
      "metadata": {
        "id": "iitiHJLzYQq-",
        "colab": {
          "base_uri": "https://localhost:8080/",
          "height": 0
        },
        "outputId": "42d38eca-64cb-49b8-d3ff-63f4f4484a01"
      },
      "execution_count": 10,
      "outputs": [
        {
          "output_type": "execute_result",
          "data": {
            "text/plain": [
              "array(['Kimi no Na wa.', 'Fullmetal Alchemist: Brotherhood', 'Gintama°',\n",
              "       'Steins;Gate', 'Gintama&#039;',\n",
              "       'Haikyuu!!: Karasuno Koukou VS Shiratorizawa Gakuen Koukou'],\n",
              "      dtype=object)"
            ]
          },
          "metadata": {},
          "execution_count": 10
        }
      ]
    },
    {
      "cell_type": "code",
      "source": [
        "types = df_book_with_genre['type'].values\n",
        "types[0:5]"
      ],
      "metadata": {
        "colab": {
          "base_uri": "https://localhost:8080/",
          "height": 0
        },
        "id": "dksS_jv93dEI",
        "outputId": "4e2d6d06-03be-4785-fe3c-64a4513b6150"
      },
      "execution_count": 11,
      "outputs": [
        {
          "output_type": "execute_result",
          "data": {
            "text/plain": [
              "array(['Movie', 'TV', 'TV', 'TV', 'TV'], dtype=object)"
            ]
          },
          "metadata": {},
          "execution_count": 11
        }
      ]
    },
    {
      "cell_type": "code",
      "source": [
        "genre = df_book_with_genre['genre'].values\n",
        "genre[0:3]"
      ],
      "metadata": {
        "colab": {
          "base_uri": "https://localhost:8080/",
          "height": 0
        },
        "id": "Qf5ssu8u3vjj",
        "outputId": "ba501cd5-5be7-47b8-f81c-f6468b3a567d"
      },
      "execution_count": 12,
      "outputs": [
        {
          "output_type": "execute_result",
          "data": {
            "text/plain": [
              "array(['Drama, Romance, School, Supernatural',\n",
              "       'Action, Adventure, Drama, Fantasy, Magic, Military, Shounen',\n",
              "       'Action, Comedy, Historical, Parody, Samurai, Sci-Fi, Shounen'],\n",
              "      dtype=object)"
            ]
          },
          "metadata": {},
          "execution_count": 12
        }
      ]
    },
    {
      "cell_type": "markdown",
      "source": [
        "Векторизуем описания с помощью Tf-Idf Vectorizer"
      ],
      "metadata": {
        "id": "1M98ALDQ33y0"
      }
    },
    {
      "cell_type": "code",
      "source": [
        "tfidfv = TfidfVectorizer()\n",
        "genre_matrix = tfidfv.fit_transform(genre)\n",
        "genre_matrix"
      ],
      "metadata": {
        "colab": {
          "base_uri": "https://localhost:8080/",
          "height": 0
        },
        "id": "h7fIY2Ii35fv",
        "outputId": "9a80b111-5d79-49e9-9f44-772d15d436a6"
      },
      "execution_count": 13,
      "outputs": [
        {
          "output_type": "execute_result",
          "data": {
            "text/plain": [
              "<12232x47 sparse matrix of type '<class 'numpy.float64'>'\n",
              "\twith 41638 stored elements in Compressed Sparse Row format>"
            ]
          },
          "metadata": {},
          "execution_count": 13
        }
      ]
    },
    {
      "cell_type": "markdown",
      "source": [
        "И с помощью CountVectorizer:"
      ],
      "metadata": {
        "id": "NRIvLUY_4Cxl"
      }
    },
    {
      "cell_type": "code",
      "source": [
        "countv = CountVectorizer()\n",
        "genre_matrix_co = countv.fit_transform(genre)\n",
        "genre_matrix_co"
      ],
      "metadata": {
        "colab": {
          "base_uri": "https://localhost:8080/",
          "height": 0
        },
        "id": "e8BLV0ri4DZA",
        "outputId": "7314bd34-eef2-4a30-d0df-6fedd0083571"
      },
      "execution_count": 15,
      "outputs": [
        {
          "output_type": "execute_result",
          "data": {
            "text/plain": [
              "<12232x47 sparse matrix of type '<class 'numpy.int64'>'\n",
              "\twith 41638 stored elements in Compressed Sparse Row format>"
            ]
          },
          "metadata": {},
          "execution_count": 15
        }
      ]
    },
    {
      "cell_type": "code",
      "source": [
        "class SimpleKNNRecommender:\n",
        "    \n",
        "    def __init__(self, X_matrix, X_names, X_notes, X_descr):\n",
        "        \"\"\"\n",
        "        Входные параметры:\n",
        "        X_matrix - обучающая выборка (матрица объект-признак)\n",
        "        X_ids - массив идентификаторов объектов\n",
        "        X_title - массив названий объектов\n",
        "        X_overview - массив описаний объектов\n",
        "        \"\"\"\n",
        "        #Сохраняем параметры в переменных объекта\n",
        "        self._X_matrix = X_matrix\n",
        "        self.df = pd.DataFrame(\n",
        "            {'Anime Name': pd.Series(X_names, dtype='str'),\n",
        "            'Type': pd.Series(X_notes, dtype='str'),\n",
        "            'Genre': pd.Series(X_descr, dtype='str'),\n",
        "            'Dist': pd.Series([], dtype='float')})\n",
        "            \n",
        "            \n",
        "    def recommend_for_single_object(self, K: int, \\\n",
        "                X_matrix_object, cos_flag = True, manh_flag = False):\n",
        "        \"\"\"\n",
        "        Метод формирования рекомендаций для одного объекта.\n",
        "        Входные параметры:\n",
        "        K - количество рекомендуемых соседей \n",
        "        X_matrix_object - строка матрицы объект-признак, соответствующая объекту\n",
        "        cos_flag - флаг вычисления косинусного расстояния\n",
        "        manh_flag - флаг вычисления манхэттэнского расстояния\n",
        "        Возвращаемое значение: K найденных соседей\n",
        "        \"\"\"\n",
        "        \n",
        "        scale = 1000000\n",
        "        # Вычисляем косинусную близость\n",
        "        if cos_flag:\n",
        "            dist = cosine_similarity(self._X_matrix, X_matrix_object)\n",
        "            self.df['Dist'] = dist * scale\n",
        "            res = self.df.sort_values(by='Dist', ascending=False)\n",
        "            # Не учитываем рекомендации с единичным расстоянием,\n",
        "            # так как это искомый объект\n",
        "            res = res[res['Dist'] < scale]\n",
        "        \n",
        "        else:\n",
        "            if manh_flag:\n",
        "                dist = manhattan_distances(self._X_matrix, X_matrix_object)\n",
        "            else:\n",
        "                dist = euclidean_distances(self._X_matrix, X_matrix_object)\n",
        "            self.df['Dist'] = dist * scale\n",
        "            res = self.df.sort_values(by='Dist', ascending=True)\n",
        "            # Не учитываем рекомендации с единичным расстоянием,\n",
        "            # так как это искомый объект\n",
        "            res = res[res['Dist'] > 0.0]            \n",
        "        \n",
        "        # Оставляем К первых рекомендаций\n",
        "        res = res.head(K)\n",
        "        return res"
      ],
      "metadata": {
        "id": "ocG_RQEh4Luf"
      },
      "execution_count": 16,
      "outputs": []
    },
    {
      "cell_type": "markdown",
      "source": [
        "Выберем тестовый образец, на основе которого мы будем давать рекомендации:"
      ],
      "metadata": {
        "id": "ptQ-K4Q94qFZ"
      }
    },
    {
      "cell_type": "code",
      "source": [
        "test_anime_name = 1000\n",
        "name[test_anime_name]"
      ],
      "metadata": {
        "colab": {
          "base_uri": "https://localhost:8080/",
          "height": 35
        },
        "id": "pnXH29WS4qou",
        "outputId": "c292014d-f1c5-4173-a8e1-5e61007c5a83"
      },
      "execution_count": 17,
      "outputs": [
        {
          "output_type": "execute_result",
          "data": {
            "text/plain": [
              "'Lady Lady!!'"
            ],
            "application/vnd.google.colaboratory.intrinsic+json": {
              "type": "string"
            }
          },
          "metadata": {},
          "execution_count": 17
        }
      ]
    },
    {
      "cell_type": "markdown",
      "source": [
        "Зададим его матрицу:"
      ],
      "metadata": {
        "id": "02dPC4dV4wGB"
      }
    },
    {
      "cell_type": "code",
      "source": [
        "test_anime_matrix = genre_matrix[test_anime_name]\n",
        "test_anime_matrix"
      ],
      "metadata": {
        "colab": {
          "base_uri": "https://localhost:8080/",
          "height": 0
        },
        "id": "mG_Hlfas4w0o",
        "outputId": "0403152b-c2ff-4c19-82fc-d7810c6fe743"
      },
      "execution_count": 18,
      "outputs": [
        {
          "output_type": "execute_result",
          "data": {
            "text/plain": [
              "<1x47 sparse matrix of type '<class 'numpy.float64'>'\n",
              "\twith 2 stored elements in Compressed Sparse Row format>"
            ]
          },
          "metadata": {},
          "execution_count": 18
        }
      ]
    },
    {
      "cell_type": "code",
      "source": [
        "skr1 = SimpleKNNRecommender(genre_matrix, name, types, genre)"
      ],
      "metadata": {
        "id": "EfhVQFh948Hj"
      },
      "execution_count": 20,
      "outputs": []
    },
    {
      "cell_type": "code",
      "source": [
        "test = df_book_with_genre.iloc[test_anime_name]\n",
        "test"
      ],
      "metadata": {
        "colab": {
          "base_uri": "https://localhost:8080/",
          "height": 0
        },
        "id": "OMlid3834-Vs",
        "outputId": "3a6697a1-674f-490a-aec6-cc21ba3a60fe"
      },
      "execution_count": 21,
      "outputs": [
        {
          "output_type": "execute_result",
          "data": {
            "text/plain": [
              "anime_id                 2227\n",
              "name              Lady Lady!!\n",
              "genre       Drama, Historical\n",
              "type                       TV\n",
              "episodes                   21\n",
              "rating                   7.73\n",
              "members                  2681\n",
              "Name: 1000, dtype: object"
            ]
          },
          "metadata": {},
          "execution_count": 21
        }
      ]
    },
    {
      "cell_type": "markdown",
      "source": [
        "Делаем рекомендацию на основании описания векторизованного Tf-Idf и косинусного расстояния:"
      ],
      "metadata": {
        "id": "x5T-ntRm5Pc_"
      }
    },
    {
      "cell_type": "code",
      "source": [
        "rec1 = skr1.recommend_for_single_object(15, test_anime_matrix)\n",
        "rec1"
      ],
      "metadata": {
        "colab": {
          "base_uri": "https://localhost:8080/",
          "height": 520
        },
        "id": "RwR807gh5QSa",
        "outputId": "62e7f7a8-f6ee-46ba-b5c9-33b6ec890960"
      },
      "execution_count": 23,
      "outputs": [
        {
          "output_type": "execute_result",
          "data": {
            "text/plain": [
              "                                        Anime Name     Type  \\\n",
              "8118   Anime Roukyoku Kikou Shimizu no Jirochouden       TV   \n",
              "8082                                 Ajisai no Uta      OVA   \n",
              "5738                                 91 Days Recap  Special   \n",
              "620                                        91 Days       TV   \n",
              "8892                 Huckleberry no Bouken (Movie)    Movie   \n",
              "10353                             Souya Monogatari       TV   \n",
              "6257                          Apfelland Monogatari    Movie   \n",
              "10213            Shiroi Kiba White Fang Monogatari  Special   \n",
              "6095                         Huckleberry no Bouken       TV   \n",
              "5518                      Juugo Shounen Hyouryuuki  Special   \n",
              "9779                                    Oi! Ryouma       TV   \n",
              "4467            Seton Doubutsuki: Kuma no Ko Jacky       TV   \n",
              "2909                         Hi no Tori: Houou-hen    Movie   \n",
              "9800                                  Okon Joururi    Movie   \n",
              "1562                              Hadashi no Gen 2    Movie   \n",
              "\n",
              "                              Genre           Dist  \n",
              "8118      Comedy, Drama, Historical  921100.489503  \n",
              "8082      Comedy, Drama, Historical  921100.489503  \n",
              "5738      Action, Drama, Historical  884330.883302  \n",
              "620       Action, Drama, Historical  884330.883302  \n",
              "8892   Adventure, Drama, Historical  869097.562312  \n",
              "10353  Adventure, Drama, Historical  869097.562312  \n",
              "6257   Adventure, Drama, Historical  869097.562312  \n",
              "10213  Adventure, Drama, Historical  869097.562312  \n",
              "6095   Adventure, Drama, Historical  869097.562312  \n",
              "5518   Adventure, Drama, Historical  869097.562312  \n",
              "9779   Adventure, Drama, Historical  869097.562312  \n",
              "4467   Adventure, Drama, Historical  869097.562312  \n",
              "2909     Drama, Fantasy, Historical  867753.092029  \n",
              "9800     Drama, Fantasy, Historical  867753.092029  \n",
              "1562     Drama, Historical, Shounen  846444.748773  "
            ],
            "text/html": [
              "\n",
              "  <div id=\"df-1145eac7-6322-446c-81ef-2b73c701f74d\">\n",
              "    <div class=\"colab-df-container\">\n",
              "      <div>\n",
              "<style scoped>\n",
              "    .dataframe tbody tr th:only-of-type {\n",
              "        vertical-align: middle;\n",
              "    }\n",
              "\n",
              "    .dataframe tbody tr th {\n",
              "        vertical-align: top;\n",
              "    }\n",
              "\n",
              "    .dataframe thead th {\n",
              "        text-align: right;\n",
              "    }\n",
              "</style>\n",
              "<table border=\"1\" class=\"dataframe\">\n",
              "  <thead>\n",
              "    <tr style=\"text-align: right;\">\n",
              "      <th></th>\n",
              "      <th>Anime Name</th>\n",
              "      <th>Type</th>\n",
              "      <th>Genre</th>\n",
              "      <th>Dist</th>\n",
              "    </tr>\n",
              "  </thead>\n",
              "  <tbody>\n",
              "    <tr>\n",
              "      <th>8118</th>\n",
              "      <td>Anime Roukyoku Kikou Shimizu no Jirochouden</td>\n",
              "      <td>TV</td>\n",
              "      <td>Comedy, Drama, Historical</td>\n",
              "      <td>921100.489503</td>\n",
              "    </tr>\n",
              "    <tr>\n",
              "      <th>8082</th>\n",
              "      <td>Ajisai no Uta</td>\n",
              "      <td>OVA</td>\n",
              "      <td>Comedy, Drama, Historical</td>\n",
              "      <td>921100.489503</td>\n",
              "    </tr>\n",
              "    <tr>\n",
              "      <th>5738</th>\n",
              "      <td>91 Days Recap</td>\n",
              "      <td>Special</td>\n",
              "      <td>Action, Drama, Historical</td>\n",
              "      <td>884330.883302</td>\n",
              "    </tr>\n",
              "    <tr>\n",
              "      <th>620</th>\n",
              "      <td>91 Days</td>\n",
              "      <td>TV</td>\n",
              "      <td>Action, Drama, Historical</td>\n",
              "      <td>884330.883302</td>\n",
              "    </tr>\n",
              "    <tr>\n",
              "      <th>8892</th>\n",
              "      <td>Huckleberry no Bouken (Movie)</td>\n",
              "      <td>Movie</td>\n",
              "      <td>Adventure, Drama, Historical</td>\n",
              "      <td>869097.562312</td>\n",
              "    </tr>\n",
              "    <tr>\n",
              "      <th>10353</th>\n",
              "      <td>Souya Monogatari</td>\n",
              "      <td>TV</td>\n",
              "      <td>Adventure, Drama, Historical</td>\n",
              "      <td>869097.562312</td>\n",
              "    </tr>\n",
              "    <tr>\n",
              "      <th>6257</th>\n",
              "      <td>Apfelland Monogatari</td>\n",
              "      <td>Movie</td>\n",
              "      <td>Adventure, Drama, Historical</td>\n",
              "      <td>869097.562312</td>\n",
              "    </tr>\n",
              "    <tr>\n",
              "      <th>10213</th>\n",
              "      <td>Shiroi Kiba White Fang Monogatari</td>\n",
              "      <td>Special</td>\n",
              "      <td>Adventure, Drama, Historical</td>\n",
              "      <td>869097.562312</td>\n",
              "    </tr>\n",
              "    <tr>\n",
              "      <th>6095</th>\n",
              "      <td>Huckleberry no Bouken</td>\n",
              "      <td>TV</td>\n",
              "      <td>Adventure, Drama, Historical</td>\n",
              "      <td>869097.562312</td>\n",
              "    </tr>\n",
              "    <tr>\n",
              "      <th>5518</th>\n",
              "      <td>Juugo Shounen Hyouryuuki</td>\n",
              "      <td>Special</td>\n",
              "      <td>Adventure, Drama, Historical</td>\n",
              "      <td>869097.562312</td>\n",
              "    </tr>\n",
              "    <tr>\n",
              "      <th>9779</th>\n",
              "      <td>Oi! Ryouma</td>\n",
              "      <td>TV</td>\n",
              "      <td>Adventure, Drama, Historical</td>\n",
              "      <td>869097.562312</td>\n",
              "    </tr>\n",
              "    <tr>\n",
              "      <th>4467</th>\n",
              "      <td>Seton Doubutsuki: Kuma no Ko Jacky</td>\n",
              "      <td>TV</td>\n",
              "      <td>Adventure, Drama, Historical</td>\n",
              "      <td>869097.562312</td>\n",
              "    </tr>\n",
              "    <tr>\n",
              "      <th>2909</th>\n",
              "      <td>Hi no Tori: Houou-hen</td>\n",
              "      <td>Movie</td>\n",
              "      <td>Drama, Fantasy, Historical</td>\n",
              "      <td>867753.092029</td>\n",
              "    </tr>\n",
              "    <tr>\n",
              "      <th>9800</th>\n",
              "      <td>Okon Joururi</td>\n",
              "      <td>Movie</td>\n",
              "      <td>Drama, Fantasy, Historical</td>\n",
              "      <td>867753.092029</td>\n",
              "    </tr>\n",
              "    <tr>\n",
              "      <th>1562</th>\n",
              "      <td>Hadashi no Gen 2</td>\n",
              "      <td>Movie</td>\n",
              "      <td>Drama, Historical, Shounen</td>\n",
              "      <td>846444.748773</td>\n",
              "    </tr>\n",
              "  </tbody>\n",
              "</table>\n",
              "</div>\n",
              "      <button class=\"colab-df-convert\" onclick=\"convertToInteractive('df-1145eac7-6322-446c-81ef-2b73c701f74d')\"\n",
              "              title=\"Convert this dataframe to an interactive table.\"\n",
              "              style=\"display:none;\">\n",
              "        \n",
              "  <svg xmlns=\"http://www.w3.org/2000/svg\" height=\"24px\"viewBox=\"0 0 24 24\"\n",
              "       width=\"24px\">\n",
              "    <path d=\"M0 0h24v24H0V0z\" fill=\"none\"/>\n",
              "    <path d=\"M18.56 5.44l.94 2.06.94-2.06 2.06-.94-2.06-.94-.94-2.06-.94 2.06-2.06.94zm-11 1L8.5 8.5l.94-2.06 2.06-.94-2.06-.94L8.5 2.5l-.94 2.06-2.06.94zm10 10l.94 2.06.94-2.06 2.06-.94-2.06-.94-.94-2.06-.94 2.06-2.06.94z\"/><path d=\"M17.41 7.96l-1.37-1.37c-.4-.4-.92-.59-1.43-.59-.52 0-1.04.2-1.43.59L10.3 9.45l-7.72 7.72c-.78.78-.78 2.05 0 2.83L4 21.41c.39.39.9.59 1.41.59.51 0 1.02-.2 1.41-.59l7.78-7.78 2.81-2.81c.8-.78.8-2.07 0-2.86zM5.41 20L4 18.59l7.72-7.72 1.47 1.35L5.41 20z\"/>\n",
              "  </svg>\n",
              "      </button>\n",
              "      \n",
              "  <style>\n",
              "    .colab-df-container {\n",
              "      display:flex;\n",
              "      flex-wrap:wrap;\n",
              "      gap: 12px;\n",
              "    }\n",
              "\n",
              "    .colab-df-convert {\n",
              "      background-color: #E8F0FE;\n",
              "      border: none;\n",
              "      border-radius: 50%;\n",
              "      cursor: pointer;\n",
              "      display: none;\n",
              "      fill: #1967D2;\n",
              "      height: 32px;\n",
              "      padding: 0 0 0 0;\n",
              "      width: 32px;\n",
              "    }\n",
              "\n",
              "    .colab-df-convert:hover {\n",
              "      background-color: #E2EBFA;\n",
              "      box-shadow: 0px 1px 2px rgba(60, 64, 67, 0.3), 0px 1px 3px 1px rgba(60, 64, 67, 0.15);\n",
              "      fill: #174EA6;\n",
              "    }\n",
              "\n",
              "    [theme=dark] .colab-df-convert {\n",
              "      background-color: #3B4455;\n",
              "      fill: #D2E3FC;\n",
              "    }\n",
              "\n",
              "    [theme=dark] .colab-df-convert:hover {\n",
              "      background-color: #434B5C;\n",
              "      box-shadow: 0px 1px 3px 1px rgba(0, 0, 0, 0.15);\n",
              "      filter: drop-shadow(0px 1px 2px rgba(0, 0, 0, 0.3));\n",
              "      fill: #FFFFFF;\n",
              "    }\n",
              "  </style>\n",
              "\n",
              "      <script>\n",
              "        const buttonEl =\n",
              "          document.querySelector('#df-1145eac7-6322-446c-81ef-2b73c701f74d button.colab-df-convert');\n",
              "        buttonEl.style.display =\n",
              "          google.colab.kernel.accessAllowed ? 'block' : 'none';\n",
              "\n",
              "        async function convertToInteractive(key) {\n",
              "          const element = document.querySelector('#df-1145eac7-6322-446c-81ef-2b73c701f74d');\n",
              "          const dataTable =\n",
              "            await google.colab.kernel.invokeFunction('convertToInteractive',\n",
              "                                                     [key], {});\n",
              "          if (!dataTable) return;\n",
              "\n",
              "          const docLinkHtml = 'Like what you see? Visit the ' +\n",
              "            '<a target=\"_blank\" href=https://colab.research.google.com/notebooks/data_table.ipynb>data table notebook</a>'\n",
              "            + ' to learn more about interactive tables.';\n",
              "          element.innerHTML = '';\n",
              "          dataTable['output_type'] = 'display_data';\n",
              "          await google.colab.output.renderOutput(dataTable, element);\n",
              "          const docLink = document.createElement('div');\n",
              "          docLink.innerHTML = docLinkHtml;\n",
              "          element.appendChild(docLink);\n",
              "        }\n",
              "      </script>\n",
              "    </div>\n",
              "  </div>\n",
              "  "
            ]
          },
          "metadata": {},
          "execution_count": 23
        }
      ]
    },
    {
      "cell_type": "code",
      "source": [
        "test_anime_matrix_co = genre_matrix_co[test_anime_name]\n",
        "test_anime_matrix_co"
      ],
      "metadata": {
        "colab": {
          "base_uri": "https://localhost:8080/",
          "height": 0
        },
        "id": "ny0zVIe55pF5",
        "outputId": "9fa53427-c626-4822-cb5a-f7f0cff202c1"
      },
      "execution_count": 24,
      "outputs": [
        {
          "output_type": "execute_result",
          "data": {
            "text/plain": [
              "<1x47 sparse matrix of type '<class 'numpy.int64'>'\n",
              "\twith 2 stored elements in Compressed Sparse Row format>"
            ]
          },
          "metadata": {},
          "execution_count": 24
        }
      ]
    },
    {
      "cell_type": "code",
      "source": [
        "skr2 = SimpleKNNRecommender(genre_matrix_co, name, types, genre)"
      ],
      "metadata": {
        "id": "BTJTBZm_5qt8"
      },
      "execution_count": 25,
      "outputs": []
    },
    {
      "cell_type": "markdown",
      "source": [
        "Делаем рекомендации по описаниям векторизованным CountVectorizer и на основе Евклидова расстояния:"
      ],
      "metadata": {
        "id": "Y2R7a1UI5sAC"
      }
    },
    {
      "cell_type": "code",
      "source": [
        "rec2 = skr2.recommend_for_single_object(15, test_anime_matrix_co, cos_flag = False)\n",
        "rec2"
      ],
      "metadata": {
        "colab": {
          "base_uri": "https://localhost:8080/",
          "height": 520
        },
        "id": "Am25kLyL5uTi",
        "outputId": "232f3a09-a081-46b9-d20b-7114547e3ce8"
      },
      "execution_count": 26,
      "outputs": [
        {
          "output_type": "execute_result",
          "data": {
            "text/plain": [
              "                                              Anime Name     Type  \\\n",
              "8738   Hanshin Awaji Daishinsai ni Manabu: Boku wa, A...      OVA   \n",
              "4386         Ashita Genki ni Nare!: Hanbun no Satsumaimo    Movie   \n",
              "10067                          Sabaku no Takara no Shiro      OVA   \n",
              "10062                                  Ryouma 30 Seconds       TV   \n",
              "8826                            Hi no Tori: Hagoromo-hen    Movie   \n",
              "10061                                        Ryoukan-san    Movie   \n",
              "265                                         Kaze Tachinu    Movie   \n",
              "5777                                          Fuyu no Hi    Movie   \n",
              "2734                           Tokyo Magnitude 8.0 Recap  Special   \n",
              "3144                     Saikyou Bushouden: Sangoku Engi       TV   \n",
              "3347                                   Sangokushi (1985)  Special   \n",
              "10048                                   Romangeun Eobsda    Movie   \n",
              "244                                        Tsumiki no Ie    Movie   \n",
              "8235                      Bonobono: Kumomo no Ki no Koto    Movie   \n",
              "8765                      Heijoukyou: Yasukerashi Miyako    Movie   \n",
              "\n",
              "                            Genre       Dist  \n",
              "8738      Drama, Historical, Kids  1000000.0  \n",
              "4386                        Drama  1000000.0  \n",
              "10067                       Drama  1000000.0  \n",
              "10062                  Historical  1000000.0  \n",
              "8826                        Drama  1000000.0  \n",
              "10061                  Historical  1000000.0  \n",
              "265    Drama, Historical, Romance  1000000.0  \n",
              "5777                   Historical  1000000.0  \n",
              "2734                        Drama  1000000.0  \n",
              "3144                   Historical  1000000.0  \n",
              "3347                   Historical  1000000.0  \n",
              "10048                       Drama  1000000.0  \n",
              "244                         Drama  1000000.0  \n",
              "8235                        Drama  1000000.0  \n",
              "8765                   Historical  1000000.0  "
            ],
            "text/html": [
              "\n",
              "  <div id=\"df-a8c0c9a7-2710-4ecf-9846-66189aa2c5d8\">\n",
              "    <div class=\"colab-df-container\">\n",
              "      <div>\n",
              "<style scoped>\n",
              "    .dataframe tbody tr th:only-of-type {\n",
              "        vertical-align: middle;\n",
              "    }\n",
              "\n",
              "    .dataframe tbody tr th {\n",
              "        vertical-align: top;\n",
              "    }\n",
              "\n",
              "    .dataframe thead th {\n",
              "        text-align: right;\n",
              "    }\n",
              "</style>\n",
              "<table border=\"1\" class=\"dataframe\">\n",
              "  <thead>\n",
              "    <tr style=\"text-align: right;\">\n",
              "      <th></th>\n",
              "      <th>Anime Name</th>\n",
              "      <th>Type</th>\n",
              "      <th>Genre</th>\n",
              "      <th>Dist</th>\n",
              "    </tr>\n",
              "  </thead>\n",
              "  <tbody>\n",
              "    <tr>\n",
              "      <th>8738</th>\n",
              "      <td>Hanshin Awaji Daishinsai ni Manabu: Boku wa, A...</td>\n",
              "      <td>OVA</td>\n",
              "      <td>Drama, Historical, Kids</td>\n",
              "      <td>1000000.0</td>\n",
              "    </tr>\n",
              "    <tr>\n",
              "      <th>4386</th>\n",
              "      <td>Ashita Genki ni Nare!: Hanbun no Satsumaimo</td>\n",
              "      <td>Movie</td>\n",
              "      <td>Drama</td>\n",
              "      <td>1000000.0</td>\n",
              "    </tr>\n",
              "    <tr>\n",
              "      <th>10067</th>\n",
              "      <td>Sabaku no Takara no Shiro</td>\n",
              "      <td>OVA</td>\n",
              "      <td>Drama</td>\n",
              "      <td>1000000.0</td>\n",
              "    </tr>\n",
              "    <tr>\n",
              "      <th>10062</th>\n",
              "      <td>Ryouma 30 Seconds</td>\n",
              "      <td>TV</td>\n",
              "      <td>Historical</td>\n",
              "      <td>1000000.0</td>\n",
              "    </tr>\n",
              "    <tr>\n",
              "      <th>8826</th>\n",
              "      <td>Hi no Tori: Hagoromo-hen</td>\n",
              "      <td>Movie</td>\n",
              "      <td>Drama</td>\n",
              "      <td>1000000.0</td>\n",
              "    </tr>\n",
              "    <tr>\n",
              "      <th>10061</th>\n",
              "      <td>Ryoukan-san</td>\n",
              "      <td>Movie</td>\n",
              "      <td>Historical</td>\n",
              "      <td>1000000.0</td>\n",
              "    </tr>\n",
              "    <tr>\n",
              "      <th>265</th>\n",
              "      <td>Kaze Tachinu</td>\n",
              "      <td>Movie</td>\n",
              "      <td>Drama, Historical, Romance</td>\n",
              "      <td>1000000.0</td>\n",
              "    </tr>\n",
              "    <tr>\n",
              "      <th>5777</th>\n",
              "      <td>Fuyu no Hi</td>\n",
              "      <td>Movie</td>\n",
              "      <td>Historical</td>\n",
              "      <td>1000000.0</td>\n",
              "    </tr>\n",
              "    <tr>\n",
              "      <th>2734</th>\n",
              "      <td>Tokyo Magnitude 8.0 Recap</td>\n",
              "      <td>Special</td>\n",
              "      <td>Drama</td>\n",
              "      <td>1000000.0</td>\n",
              "    </tr>\n",
              "    <tr>\n",
              "      <th>3144</th>\n",
              "      <td>Saikyou Bushouden: Sangoku Engi</td>\n",
              "      <td>TV</td>\n",
              "      <td>Historical</td>\n",
              "      <td>1000000.0</td>\n",
              "    </tr>\n",
              "    <tr>\n",
              "      <th>3347</th>\n",
              "      <td>Sangokushi (1985)</td>\n",
              "      <td>Special</td>\n",
              "      <td>Historical</td>\n",
              "      <td>1000000.0</td>\n",
              "    </tr>\n",
              "    <tr>\n",
              "      <th>10048</th>\n",
              "      <td>Romangeun Eobsda</td>\n",
              "      <td>Movie</td>\n",
              "      <td>Drama</td>\n",
              "      <td>1000000.0</td>\n",
              "    </tr>\n",
              "    <tr>\n",
              "      <th>244</th>\n",
              "      <td>Tsumiki no Ie</td>\n",
              "      <td>Movie</td>\n",
              "      <td>Drama</td>\n",
              "      <td>1000000.0</td>\n",
              "    </tr>\n",
              "    <tr>\n",
              "      <th>8235</th>\n",
              "      <td>Bonobono: Kumomo no Ki no Koto</td>\n",
              "      <td>Movie</td>\n",
              "      <td>Drama</td>\n",
              "      <td>1000000.0</td>\n",
              "    </tr>\n",
              "    <tr>\n",
              "      <th>8765</th>\n",
              "      <td>Heijoukyou: Yasukerashi Miyako</td>\n",
              "      <td>Movie</td>\n",
              "      <td>Historical</td>\n",
              "      <td>1000000.0</td>\n",
              "    </tr>\n",
              "  </tbody>\n",
              "</table>\n",
              "</div>\n",
              "      <button class=\"colab-df-convert\" onclick=\"convertToInteractive('df-a8c0c9a7-2710-4ecf-9846-66189aa2c5d8')\"\n",
              "              title=\"Convert this dataframe to an interactive table.\"\n",
              "              style=\"display:none;\">\n",
              "        \n",
              "  <svg xmlns=\"http://www.w3.org/2000/svg\" height=\"24px\"viewBox=\"0 0 24 24\"\n",
              "       width=\"24px\">\n",
              "    <path d=\"M0 0h24v24H0V0z\" fill=\"none\"/>\n",
              "    <path d=\"M18.56 5.44l.94 2.06.94-2.06 2.06-.94-2.06-.94-.94-2.06-.94 2.06-2.06.94zm-11 1L8.5 8.5l.94-2.06 2.06-.94-2.06-.94L8.5 2.5l-.94 2.06-2.06.94zm10 10l.94 2.06.94-2.06 2.06-.94-2.06-.94-.94-2.06-.94 2.06-2.06.94z\"/><path d=\"M17.41 7.96l-1.37-1.37c-.4-.4-.92-.59-1.43-.59-.52 0-1.04.2-1.43.59L10.3 9.45l-7.72 7.72c-.78.78-.78 2.05 0 2.83L4 21.41c.39.39.9.59 1.41.59.51 0 1.02-.2 1.41-.59l7.78-7.78 2.81-2.81c.8-.78.8-2.07 0-2.86zM5.41 20L4 18.59l7.72-7.72 1.47 1.35L5.41 20z\"/>\n",
              "  </svg>\n",
              "      </button>\n",
              "      \n",
              "  <style>\n",
              "    .colab-df-container {\n",
              "      display:flex;\n",
              "      flex-wrap:wrap;\n",
              "      gap: 12px;\n",
              "    }\n",
              "\n",
              "    .colab-df-convert {\n",
              "      background-color: #E8F0FE;\n",
              "      border: none;\n",
              "      border-radius: 50%;\n",
              "      cursor: pointer;\n",
              "      display: none;\n",
              "      fill: #1967D2;\n",
              "      height: 32px;\n",
              "      padding: 0 0 0 0;\n",
              "      width: 32px;\n",
              "    }\n",
              "\n",
              "    .colab-df-convert:hover {\n",
              "      background-color: #E2EBFA;\n",
              "      box-shadow: 0px 1px 2px rgba(60, 64, 67, 0.3), 0px 1px 3px 1px rgba(60, 64, 67, 0.15);\n",
              "      fill: #174EA6;\n",
              "    }\n",
              "\n",
              "    [theme=dark] .colab-df-convert {\n",
              "      background-color: #3B4455;\n",
              "      fill: #D2E3FC;\n",
              "    }\n",
              "\n",
              "    [theme=dark] .colab-df-convert:hover {\n",
              "      background-color: #434B5C;\n",
              "      box-shadow: 0px 1px 3px 1px rgba(0, 0, 0, 0.15);\n",
              "      filter: drop-shadow(0px 1px 2px rgba(0, 0, 0, 0.3));\n",
              "      fill: #FFFFFF;\n",
              "    }\n",
              "  </style>\n",
              "\n",
              "      <script>\n",
              "        const buttonEl =\n",
              "          document.querySelector('#df-a8c0c9a7-2710-4ecf-9846-66189aa2c5d8 button.colab-df-convert');\n",
              "        buttonEl.style.display =\n",
              "          google.colab.kernel.accessAllowed ? 'block' : 'none';\n",
              "\n",
              "        async function convertToInteractive(key) {\n",
              "          const element = document.querySelector('#df-a8c0c9a7-2710-4ecf-9846-66189aa2c5d8');\n",
              "          const dataTable =\n",
              "            await google.colab.kernel.invokeFunction('convertToInteractive',\n",
              "                                                     [key], {});\n",
              "          if (!dataTable) return;\n",
              "\n",
              "          const docLinkHtml = 'Like what you see? Visit the ' +\n",
              "            '<a target=\"_blank\" href=https://colab.research.google.com/notebooks/data_table.ipynb>data table notebook</a>'\n",
              "            + ' to learn more about interactive tables.';\n",
              "          element.innerHTML = '';\n",
              "          dataTable['output_type'] = 'display_data';\n",
              "          await google.colab.output.renderOutput(dataTable, element);\n",
              "          const docLink = document.createElement('div');\n",
              "          docLink.innerHTML = docLinkHtml;\n",
              "          element.appendChild(docLink);\n",
              "        }\n",
              "      </script>\n",
              "    </div>\n",
              "  </div>\n",
              "  "
            ]
          },
          "metadata": {},
          "execution_count": 26
        }
      ]
    }
  ]
}